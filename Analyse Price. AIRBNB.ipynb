{
 "cells": [
  {
   "cell_type": "code",
   "execution_count": 1,
   "metadata": {},
   "outputs": [],
   "source": [
    "#Importer les packages python\n",
    "\n",
    "import matplotlib\n",
    "import pandas as pd\n",
    "import numpy as np\n",
    "import descartes\n",
    "import os\n",
    "import matplotlib.pyplot as plt\n",
    "import seaborn as sns\n",
    "import scipy.stats as stats\n",
    "pd.options.mode.chained_assignment = None"
   ]
  },
  {
   "cell_type": "code",
   "execution_count": 2,
   "metadata": {
    "scrolled": true
   },
   "outputs": [
    {
     "data": {
      "text/html": [
       "<div>\n",
       "<style scoped>\n",
       "    .dataframe tbody tr th:only-of-type {\n",
       "        vertical-align: middle;\n",
       "    }\n",
       "\n",
       "    .dataframe tbody tr th {\n",
       "        vertical-align: top;\n",
       "    }\n",
       "\n",
       "    .dataframe thead th {\n",
       "        text-align: right;\n",
       "    }\n",
       "</style>\n",
       "<table border=\"1\" class=\"dataframe\">\n",
       "  <thead>\n",
       "    <tr style=\"text-align: right;\">\n",
       "      <th></th>\n",
       "      <th>id</th>\n",
       "      <th>listing_url</th>\n",
       "      <th>scrape_id</th>\n",
       "      <th>last_scraped</th>\n",
       "      <th>name</th>\n",
       "      <th>description</th>\n",
       "      <th>neighborhood_overview</th>\n",
       "      <th>picture_url</th>\n",
       "      <th>host_id</th>\n",
       "      <th>host_url</th>\n",
       "      <th>...</th>\n",
       "      <th>review_scores_communication</th>\n",
       "      <th>review_scores_location</th>\n",
       "      <th>review_scores_value</th>\n",
       "      <th>license</th>\n",
       "      <th>instant_bookable</th>\n",
       "      <th>calculated_host_listings_count</th>\n",
       "      <th>calculated_host_listings_count_entire_homes</th>\n",
       "      <th>calculated_host_listings_count_private_rooms</th>\n",
       "      <th>calculated_host_listings_count_shared_rooms</th>\n",
       "      <th>reviews_per_month</th>\n",
       "    </tr>\n",
       "  </thead>\n",
       "  <tbody>\n",
       "    <tr>\n",
       "      <th>0</th>\n",
       "      <td>2577</td>\n",
       "      <td>https://www.airbnb.com/rooms/2577</td>\n",
       "      <td>20201214191425</td>\n",
       "      <td>2020-12-16</td>\n",
       "      <td>Loft for 4 by Canal Saint Martin</td>\n",
       "      <td>100 m2 loft (1100 sq feet) with high ceiling, ...</td>\n",
       "      <td>NaN</td>\n",
       "      <td>https://a0.muscache.com/pictures/09da057c-0120...</td>\n",
       "      <td>2827</td>\n",
       "      <td>https://www.airbnb.com/users/show/2827</td>\n",
       "      <td>...</td>\n",
       "      <td>10.0</td>\n",
       "      <td>10.0</td>\n",
       "      <td>10.0</td>\n",
       "      <td>NaN</td>\n",
       "      <td>f</td>\n",
       "      <td>1</td>\n",
       "      <td>1</td>\n",
       "      <td>0</td>\n",
       "      <td>0</td>\n",
       "      <td>0.04</td>\n",
       "    </tr>\n",
       "    <tr>\n",
       "      <th>1</th>\n",
       "      <td>3109</td>\n",
       "      <td>https://www.airbnb.com/rooms/3109</td>\n",
       "      <td>20201214191425</td>\n",
       "      <td>2020-12-17</td>\n",
       "      <td>zen and calm</td>\n",
       "      <td>&lt;b&gt;The space&lt;/b&gt;&lt;br /&gt;I bedroom appartment in ...</td>\n",
       "      <td>Good restaurants&lt;br /&gt;very close the Montparna...</td>\n",
       "      <td>https://a0.muscache.com/pictures/baeae9e2-cd53...</td>\n",
       "      <td>3631</td>\n",
       "      <td>https://www.airbnb.com/users/show/3631</td>\n",
       "      <td>...</td>\n",
       "      <td>10.0</td>\n",
       "      <td>10.0</td>\n",
       "      <td>10.0</td>\n",
       "      <td>NaN</td>\n",
       "      <td>f</td>\n",
       "      <td>1</td>\n",
       "      <td>1</td>\n",
       "      <td>0</td>\n",
       "      <td>0</td>\n",
       "      <td>0.19</td>\n",
       "    </tr>\n",
       "    <tr>\n",
       "      <th>2</th>\n",
       "      <td>4890</td>\n",
       "      <td>https://www.airbnb.com/rooms/4890</td>\n",
       "      <td>20201214191425</td>\n",
       "      <td>2020-12-16</td>\n",
       "      <td>Quiet Historic &amp; Cute  +Free Cruise</td>\n",
       "      <td>Stylish &amp; Classic One bedroom apartment for up...</td>\n",
       "      <td>Called \"Paris Next Great Neighborhood\" from Tr...</td>\n",
       "      <td>https://a0.muscache.com/pictures/b144894f-bc55...</td>\n",
       "      <td>6792</td>\n",
       "      <td>https://www.airbnb.com/users/show/6792</td>\n",
       "      <td>...</td>\n",
       "      <td>10.0</td>\n",
       "      <td>10.0</td>\n",
       "      <td>10.0</td>\n",
       "      <td>NaN</td>\n",
       "      <td>f</td>\n",
       "      <td>14</td>\n",
       "      <td>14</td>\n",
       "      <td>0</td>\n",
       "      <td>0</td>\n",
       "      <td>0.21</td>\n",
       "    </tr>\n",
       "    <tr>\n",
       "      <th>3</th>\n",
       "      <td>5396</td>\n",
       "      <td>https://www.airbnb.com/rooms/5396</td>\n",
       "      <td>20201214191425</td>\n",
       "      <td>2020-12-16</td>\n",
       "      <td>Explore the heart of old Paris</td>\n",
       "      <td>Cozy, well-appointed and graciously designed s...</td>\n",
       "      <td>You are within walking distance to the Louvre,...</td>\n",
       "      <td>https://a0.muscache.com/pictures/52413/f9bf76f...</td>\n",
       "      <td>7903</td>\n",
       "      <td>https://www.airbnb.com/users/show/7903</td>\n",
       "      <td>...</td>\n",
       "      <td>10.0</td>\n",
       "      <td>10.0</td>\n",
       "      <td>8.0</td>\n",
       "      <td>7510402838018</td>\n",
       "      <td>f</td>\n",
       "      <td>1</td>\n",
       "      <td>1</td>\n",
       "      <td>0</td>\n",
       "      <td>0</td>\n",
       "      <td>1.65</td>\n",
       "    </tr>\n",
       "    <tr>\n",
       "      <th>4</th>\n",
       "      <td>7397</td>\n",
       "      <td>https://www.airbnb.com/rooms/7397</td>\n",
       "      <td>20201214191425</td>\n",
       "      <td>2020-12-16</td>\n",
       "      <td>MARAIS - 2ROOMS APT - 2/4 PEOPLE</td>\n",
       "      <td>VERY CONVENIENT, WITH THE BEST LOCATION !&lt;br /...</td>\n",
       "      <td>NaN</td>\n",
       "      <td>https://a0.muscache.com/pictures/67928287/330b...</td>\n",
       "      <td>2626</td>\n",
       "      <td>https://www.airbnb.com/users/show/2626</td>\n",
       "      <td>...</td>\n",
       "      <td>10.0</td>\n",
       "      <td>10.0</td>\n",
       "      <td>10.0</td>\n",
       "      <td>7510400829623</td>\n",
       "      <td>f</td>\n",
       "      <td>3</td>\n",
       "      <td>3</td>\n",
       "      <td>0</td>\n",
       "      <td>0</td>\n",
       "      <td>2.28</td>\n",
       "    </tr>\n",
       "  </tbody>\n",
       "</table>\n",
       "<p>5 rows × 74 columns</p>\n",
       "</div>"
      ],
      "text/plain": [
       "     id                        listing_url       scrape_id last_scraped  \\\n",
       "0  2577  https://www.airbnb.com/rooms/2577  20201214191425   2020-12-16   \n",
       "1  3109  https://www.airbnb.com/rooms/3109  20201214191425   2020-12-17   \n",
       "2  4890  https://www.airbnb.com/rooms/4890  20201214191425   2020-12-16   \n",
       "3  5396  https://www.airbnb.com/rooms/5396  20201214191425   2020-12-16   \n",
       "4  7397  https://www.airbnb.com/rooms/7397  20201214191425   2020-12-16   \n",
       "\n",
       "                                  name  \\\n",
       "0     Loft for 4 by Canal Saint Martin   \n",
       "1                         zen and calm   \n",
       "2  Quiet Historic & Cute  +Free Cruise   \n",
       "3       Explore the heart of old Paris   \n",
       "4     MARAIS - 2ROOMS APT - 2/4 PEOPLE   \n",
       "\n",
       "                                         description  \\\n",
       "0  100 m2 loft (1100 sq feet) with high ceiling, ...   \n",
       "1  <b>The space</b><br />I bedroom appartment in ...   \n",
       "2  Stylish & Classic One bedroom apartment for up...   \n",
       "3  Cozy, well-appointed and graciously designed s...   \n",
       "4  VERY CONVENIENT, WITH THE BEST LOCATION !<br /...   \n",
       "\n",
       "                               neighborhood_overview  \\\n",
       "0                                                NaN   \n",
       "1  Good restaurants<br />very close the Montparna...   \n",
       "2  Called \"Paris Next Great Neighborhood\" from Tr...   \n",
       "3  You are within walking distance to the Louvre,...   \n",
       "4                                                NaN   \n",
       "\n",
       "                                         picture_url  host_id  \\\n",
       "0  https://a0.muscache.com/pictures/09da057c-0120...     2827   \n",
       "1  https://a0.muscache.com/pictures/baeae9e2-cd53...     3631   \n",
       "2  https://a0.muscache.com/pictures/b144894f-bc55...     6792   \n",
       "3  https://a0.muscache.com/pictures/52413/f9bf76f...     7903   \n",
       "4  https://a0.muscache.com/pictures/67928287/330b...     2626   \n",
       "\n",
       "                                 host_url  ... review_scores_communication  \\\n",
       "0  https://www.airbnb.com/users/show/2827  ...                        10.0   \n",
       "1  https://www.airbnb.com/users/show/3631  ...                        10.0   \n",
       "2  https://www.airbnb.com/users/show/6792  ...                        10.0   \n",
       "3  https://www.airbnb.com/users/show/7903  ...                        10.0   \n",
       "4  https://www.airbnb.com/users/show/2626  ...                        10.0   \n",
       "\n",
       "  review_scores_location review_scores_value        license instant_bookable  \\\n",
       "0                   10.0                10.0            NaN                f   \n",
       "1                   10.0                10.0            NaN                f   \n",
       "2                   10.0                10.0            NaN                f   \n",
       "3                   10.0                 8.0  7510402838018                f   \n",
       "4                   10.0                10.0  7510400829623                f   \n",
       "\n",
       "  calculated_host_listings_count calculated_host_listings_count_entire_homes  \\\n",
       "0                              1                                           1   \n",
       "1                              1                                           1   \n",
       "2                             14                                          14   \n",
       "3                              1                                           1   \n",
       "4                              3                                           3   \n",
       "\n",
       "  calculated_host_listings_count_private_rooms  \\\n",
       "0                                            0   \n",
       "1                                            0   \n",
       "2                                            0   \n",
       "3                                            0   \n",
       "4                                            0   \n",
       "\n",
       "  calculated_host_listings_count_shared_rooms reviews_per_month  \n",
       "0                                           0              0.04  \n",
       "1                                           0              0.19  \n",
       "2                                           0              0.21  \n",
       "3                                           0              1.65  \n",
       "4                                           0              2.28  \n",
       "\n",
       "[5 rows x 74 columns]"
      ]
     },
     "execution_count": 2,
     "metadata": {},
     "output_type": "execute_result"
    }
   ],
   "source": [
    "df_list = pd.read_csv('listings.csv')\n",
    "df_list.head()"
   ]
  },
  {
   "cell_type": "code",
   "execution_count": 3,
   "metadata": {
    "scrolled": true
   },
   "outputs": [],
   "source": [
    "#df_list.columns"
   ]
  },
  {
   "cell_type": "code",
   "execution_count": 4,
   "metadata": {},
   "outputs": [],
   "source": [
    "df_list = df_list.drop(['listing_url', 'scrape_id',\n",
    "       'picture_url', 'host_id', 'has_availability', 'reviews_per_month',\n",
    "       'host_name', 'host_since', 'host_location', 'host_about',\n",
    "       'host_response_time', 'host_response_rate', 'host_acceptance_rate',\n",
    "       'host_is_superhost', 'host_thumbnail_url', 'host_picture_url',\n",
    "       'host_neighbourhood', 'host_listings_count', 'host_url',\n",
    "       'host_total_listings_count', 'host_verifications', 'bathrooms_text',\n",
    "       'host_has_profile_pic', 'host_identity_verified', 'description',\n",
    "       'minimum_minimum_nights', 'bathrooms', 'amenities',\n",
    "       'maximum_minimum_nights', 'minimum_maximum_nights',\n",
    "       'maximum_maximum_nights', 'minimum_nights_avg_ntm',\n",
    "       'maximum_nights_avg_ntm', 'neighbourhood_group_cleansed',\n",
    "       'availability_30', 'availability_60', 'availability_90',\n",
    "       'availability_365', 'calendar_last_scraped', 'number_of_reviews',\n",
    "       'number_of_reviews_ltm', 'number_of_reviews_l30d', 'first_review',\n",
    "       'last_review', 'review_scores_rating', 'review_scores_accuracy',\n",
    "       'review_scores_cleanliness', 'review_scores_checkin',\n",
    "       'review_scores_communication', 'review_scores_location',\n",
    "       'review_scores_value', 'license', 'instant_bookable',\n",
    "       'calculated_host_listings_count', 'calendar_updated',\n",
    "       'calculated_host_listings_count_entire_homes',\n",
    "       'calculated_host_listings_count_private_rooms',\n",
    "       'calculated_host_listings_count_shared_rooms'], axis= 1)"
   ]
  },
  {
   "cell_type": "code",
   "execution_count": 5,
   "metadata": {
    "scrolled": true
   },
   "outputs": [],
   "source": [
    "#df_list.info()"
   ]
  },
  {
   "cell_type": "code",
   "execution_count": 6,
   "metadata": {
    "scrolled": true
   },
   "outputs": [],
   "source": [
    "#Vérifier le taux des données manquantes dans la base brutes\n",
    "#df_list.isnull().sum()/len(df_list)*100"
   ]
  },
  {
   "cell_type": "code",
   "execution_count": 7,
   "metadata": {},
   "outputs": [
    {
     "name": "stdout",
     "output_type": "stream",
     "text": [
      "<class 'pandas.core.frame.DataFrame'>\n",
      "RangeIndex: 65917 entries, 0 to 65916\n",
      "Data columns (total 16 columns):\n",
      " #   Column                  Non-Null Count  Dtype  \n",
      "---  ------                  --------------  -----  \n",
      " 0   id                      65917 non-null  int64  \n",
      " 1   last_scraped            65917 non-null  object \n",
      " 2   name                    65853 non-null  object \n",
      " 3   neighborhood_overview   39651 non-null  object \n",
      " 4   neighbourhood           39651 non-null  object \n",
      " 5   neighbourhood_cleansed  65917 non-null  object \n",
      " 6   latitude                65917 non-null  float64\n",
      " 7   longitude               65917 non-null  float64\n",
      " 8   property_type           65917 non-null  object \n",
      " 9   room_type               65917 non-null  object \n",
      " 10  accommodates            65917 non-null  int64  \n",
      " 11  bedrooms                52325 non-null  float64\n",
      " 12  beds                    65317 non-null  float64\n",
      " 13  price                   65917 non-null  object \n",
      " 14  minimum_nights          65917 non-null  int64  \n",
      " 15  maximum_nights          65917 non-null  int64  \n",
      "dtypes: float64(4), int64(4), object(8)\n",
      "memory usage: 8.0+ MB\n"
     ]
    }
   ],
   "source": [
    "df_list.info()"
   ]
  },
  {
   "cell_type": "code",
   "execution_count": 8,
   "metadata": {},
   "outputs": [
    {
     "data": {
      "text/plain": [
       "array([nan, 'Paris, Île-de-France, France',\n",
       "       'Paris, Ile-de-France, France',\n",
       "       'Paris 11e Arrondissement, Île-de-France, France',\n",
       "       'Paris, IDF, France', 'Paris, France', 'Paris, IdF, France',\n",
       "       'Paris-13E-Arrondissement, Île-de-France, France',\n",
       "       'Levallois-Perret, Île-de-France, France', 'Paris 5e, France',\n",
       "       'Paris 4e arrondissement, Île-de-France, France',\n",
       "       'Paris, Ile de France, France', 'Paris , Ile-de-France, France',\n",
       "       'Paris 18e, France', 'Paris, Pigalle, France',\n",
       "       'Paris, le marais, France', 'Paris 1e, France',\n",
       "       'Boulogne-Billancourt, Île-de-France, France',\n",
       "       'PARIS, Île-de-France, France', 'Paris, Paris province, France',\n",
       "       'Paris, Ã\\x8ele-de-France, France', 'Paris 2e, France',\n",
       "       'Paris 11e arrondissement, Île-de-France, France',\n",
       "       'Le Kremlin-Bicêtre, Île-de-France, France',\n",
       "       'Paris , île de France, France', 'Paris, ile de france, France',\n",
       "       'Paris, France, France',\n",
       "       'NEUILLY SUR SEINE, Île-de-France, France',\n",
       "       'PARIS 3eme, Île-de-France, France',\n",
       "       'Issy-les-Moulineaux, Île-de-France, France',\n",
       "       'Paris 1e, Île-de-France, France',\n",
       "       ' Deuil-la-Barre , Île-de-France, France',\n",
       "       'vanves, Île-de-France, France',\n",
       "       'Le Pré-Saint-Gervais, Île-de-France, France',\n",
       "       'Issy les moulineaux, Île-de-France, France',\n",
       "       'Paris-19E-Arrondissement, Île-de-France, France',\n",
       "       'París, Île-de-France, France', 'France',\n",
       "       'PARIS 02, Île-de-France, France', 'Parigi, Île-de-France, France',\n",
       "       'Paris-10E-Arrondissement, Île-de-France, France',\n",
       "       'Paris 09e, Île-de-France, France', 'Paris 10e, France',\n",
       "       'Paris 6e arrondissement, Île-de-France, France',\n",
       "       'Neuilly Sur Seine , Île-de-France, France',\n",
       "       'Bagnolet, France, France', 'Saint-Mandé, Île-de-France, France',\n",
       "       'Charenton Le Pont - limitrophe avec paris , Île-de-France, France',\n",
       "       'Paris-11E-Arrondissement, Île-de-France, France',\n",
       "       'Paris-18E-Arrondissement, Île-de-France, France',\n",
       "       'Clichy, Île-de-France, France',\n",
       "       'Paris Vincennes, Île-de-France, France', 'Paris 16e, France',\n",
       "       'Paris,  , France',\n",
       "       'Paris-5E-Arrondissement, Île-de-France, France',\n",
       "       'Paris city, Paris province, France',\n",
       "       'Paris 18e, Île-de-France, France',\n",
       "       'Gentilly, Île-de-France, France',\n",
       "       'Paris 17ème, Île-de-France, France',\n",
       "       'Paris-20E-Arrondissement, Île-de-France, France',\n",
       "       'Paris 09e, France', 'Paris, Ile de france, France',\n",
       "       'Paris-17E-Arrondissement, Île-de-France, France',\n",
       "       'Paris 19e Arrondissement, France',\n",
       "       'Neuilly-sur-Seine, Île-de-France, France',\n",
       "       'Paris 18e Arrondissement, France',\n",
       "       'Boulogne-Billancourt, IDF, France',\n",
       "       'Paris-2E-Arrondissement, Île-de-France, France',\n",
       "       'Suresnes, Île-de-France, France',\n",
       "       'Nogent-sur-Marne, Île-de-France, France',\n",
       "       'Paris-3E-Arrondissement, Île-de-France, France',\n",
       "       'Paris, Montmartre, France', 'paris, Île-de-France, France',\n",
       "       'Paris-1ER-Arrondissement, Île-de-France, France',\n",
       "       'Paris, IDF bis, France', 'Montrouge, Île-de-France, France',\n",
       "       'Paris , Île-de-France, France',\n",
       "       'Paris-16E-Arrondissement, Île-de-France, France',\n",
       "       'Paris-12E-Arrondissement, Île-de-France, France', 'paris, France',\n",
       "       'Paris-14E-Arrondissement, IDF, France', 'Clichy, IDF, France',\n",
       "       'Paris-15E-Arrondissement, Île-de-France, France',\n",
       "       'Paris-4E-Arrondissement, Île-de-France, France',\n",
       "       'Paris, Île-de-Francs, France',\n",
       "       'Paris-3eme-Arrondissement, Île-de-France, France',\n",
       "       'Île-de-France, France', 'Arrondissement, Île-de-France, France',\n",
       "       'Paris-12E-Arrondissement, IDF, France',\n",
       "       'Paris-20E-Arrondissement, IDF, France',\n",
       "       'Paris-2E-Arrondissement, IDF, France',\n",
       "       'Paris-6E-Arrondissement, Île-de-France, France',\n",
       "       'Issy-les-Moulineaux, France',\n",
       "       'Paris-9E-Arrondissement, Île-de-France, France',\n",
       "       'Paris, Île de France, France',\n",
       "       'Paris-14E-Arrondissement, Île-de-France, France',\n",
       "       'Ivry-sur-Seine, Île-de-France, France',\n",
       "       'Paris-7E-Arrondissement, Île-de-France, France',\n",
       "       'Paris-8E-Arrondissement, Île-de-France, France',\n",
       "       'Paris 11e, France',\n",
       "       'Issy-les-Moulineaux/Paris, Île-de-France, France',\n",
       "       'Vincennes, Île-de-France, France',\n",
       "       'SAINT MAURICE, Île-de-France, France', 'Paris 15e, France',\n",
       "       'Paris-9E-Arrondissement, France', 'PARIS, Idf, France',\n",
       "       'Paris 3e, France', 'Paris, 75, France', 'Paris 14e, France',\n",
       "       'Paris 20e Arrondissement, France', 'PARIS, France, France',\n",
       "       'Vanves, Île-de-France, France', 'Paris 3e, Île-de-France, France',\n",
       "       'Paris 16e, Île-de-France, France',\n",
       "       'issy les moulineaux, France, France',\n",
       "       'París, Isla de Francia, France',\n",
       "       'Paris 1er Arrondissement, Île-de-France, France',\n",
       "       'Paris 13e Arrondissement, France',\n",
       "       'Les Lilas, Île-de-France, France',\n",
       "       'Paris, Île-de-France, FR, Paris, France',\n",
       "       'Paris 20e, Île-de-France, France',\n",
       "       'Paris 3e Arrondissement, France',\n",
       "       'Paris 16e Arrondissement, France',\n",
       "       'PARIS , Île-de-France, France', 'Paris 2e, Île-de-France, France',\n",
       "       '巴黎, 法兰西岛, France', 'Pantin, Île-de-France, France',\n",
       "       'Paris 13e, France', 'Paris 11e, Île-de-France, France',\n",
       "       'Paris 9e, France', 'Saint-Ouen, Île-de-France, France',\n",
       "       'Paris 4e, Île-de-France, France',\n",
       "       'Paris, Île-de-France, FR, île de France, France',\n",
       "       'Paris 8e, Île-de-France, France',\n",
       "       'Paris 12e Arrondissement, Île-de-France, France',\n",
       "       'Paris 15e Arrondissement, Île-de-France, France',\n",
       "       'Paris 7e, France', 'Paris 17e, France',\n",
       "       'Paris-3E-Arrondissement, France', 'Paris, 75015, France',\n",
       "       '., Paris, France',\n",
       "       'Paris 19e Arrondissement, Île-de-France, France', '., France',\n",
       "       'Paris, ., France',\n",
       "       'Paris 2e Arrondissement, Île-de-France, France',\n",
       "       'Paris 9e Arrondissement, France',\n",
       "       'Paris 5e Arrondissement, France',\n",
       "       'Paris 14e Arrondissement, France',\n",
       "       'Paris 18e Arrondissement, Île-de-France, France',\n",
       "       'Paris 3e Arrondissement, Île-de-France, France',\n",
       "       'Paris 17e Arrondissement, Île-de-France, France',\n",
       "       'Paris-17E-Arrondissement, France', 'Île-de-France, Paris, France',\n",
       "       '.Champs-Elysées, PARIS, France',\n",
       "       'Aubervilliers, Île-de-France, France',\n",
       "       'Paris 14e, Île-de-France, France',\n",
       "       'Paris-6E-Arrondissement, France',\n",
       "       '9th District, Paris, Paris, France',\n",
       "       'Paris 5e Arrondissement, Île-de-France, France',\n",
       "       'Paris 11e Arrondissement, France',\n",
       "       'Paris 13e Arrondissement, Île-de-France, France',\n",
       "       'Paris, ile de France, France', 'Paris 7e Arrondissement, France',\n",
       "       'Paris, Occitanie, France', 'Paris 20e, France',\n",
       "       'Paris, *, France', 'Paris, .Paris, France',\n",
       "       'Paris 09e, 75, France', 'Paris, Île-de-France Region, France',\n",
       "       'Paris 15e Arrondissement, France',\n",
       "       'Paris 20e Arrondissement, Île-de-France, France',\n",
       "       'Paris, IF, France',\n",
       "       'Paris 7e Arrondissement, Île-de-France, France',\n",
       "       'Saint-Maurice, Île-de-France, France',\n",
       "       'Paris, Sélectionnez la région, France',\n",
       "       'Paris Centre, Île-de-France, France',\n",
       "       'Paris, ile-de-france, France', 'Parijs, France',\n",
       "       'Paris-15E-Arrondissement, France', 'Paris , Paris, France',\n",
       "       '-, Paris, France', 'PARIS, FRANCE, France', 'Paris , France',\n",
       "       'PARIS, Île-de-France Region, France', 'Paris 19e, France',\n",
       "       'Paris 8e Arrondissement, France', 'SOULAC SUR MER, France',\n",
       "       'Paris 17e, Île-de-France, France', 'PAris, 75, France',\n",
       "       'Paris 12e, France',\n",
       "       'Paris 4e Arrondissement, Île-de-France, France',\n",
       "       'paris, 75, France', 'pairs, France',\n",
       "       \"Sénas, Provence-Alpes-Côte d'Azur, France\",\n",
       "       'Charenton-le-Pont, Île-de-France, France', '75007, paris, France',\n",
       "       'Paris 11, France', 'Paris 4e, France',\n",
       "       'Paris 5e, Île-de-France, France', 'Paris 14e, 14, France',\n",
       "       'Paris 07, France', 'Paris 11e, 75, France', 'Paris 8e, France',\n",
       "       'Paris 10e Arrondissement, France', 'Paris 6e, France',\n",
       "       'Paris 15, France', 'Paris 19e, 75, France',\n",
       "       'Paris 04, Île-de-France, France',\n",
       "       'Paris 20e Arrondissement, Paris, France', 'Paris 11, 75, France',\n",
       "       'Paris 19e Arrondissement, 75, France', 'Paris 15, 75, France',\n",
       "       'Paris 10e, Île-de-France, France',\n",
       "       'Paris 02, Ile de France, France', 'Paris, 75011, France',\n",
       "       'Paris 20 Ménilmontant, France', 'Paris, 75014, France',\n",
       "       'Paris 09 Opéra, France', 'Paris 13 Gobelins, France',\n",
       "       'Paris 18 Buttes-Montmartre, France',\n",
       "       'Paris 4e Arrondissement, France',\n",
       "       'Paris 12e, Ile de France, France', 'Paris 05 Panthéon, France',\n",
       "       'Paris 15e arrondissement, France', 'Paris 03 Temple, France',\n",
       "       'Paris 6e, Île-de-France, France',\n",
       "       'Paris 07 Palais-Bourbon, France', 'Paris 11 Popincourt, France',\n",
       "       'Issy-les-Moulineaux, IDF, France',\n",
       "       'Paris-2E-Arrondissement, France', 'Paris 04, Paris, France',\n",
       "       'Paris 02 Bourse, France', 'Mbalmayo , Île-de-France, Cameroon',\n",
       "       'Paris 14e Arrondissement, Île-de-France, France',\n",
       "       'Joinville-le-Pont, IDF, France', 'Paris 14e, Paris, France',\n",
       "       'Paris 1e, Paris, France', 'PARIS, France',\n",
       "       'Paris 12 Reuilly, France', 'Paris, île de France, France',\n",
       "       'Paris 6e Arrondissement, France', 'Paris, paris, France',\n",
       "       'paris, 75011, France', 'Paris 04 Hôtel-de-Ville, France',\n",
       "       'Paris 06 Luxembourg, France',\n",
       "       'Paris 16e Arrondissement, Île-de-France, France',\n",
       "       'Paris , 75, France', 'Paris 18, France',\n",
       "       'Paris 12e Arrondissement, France',\n",
       "       'Paris 2e Arrondissement, France',\n",
       "       'Bagnolet, Île-de-France, France'], dtype=object)"
      ]
     },
     "execution_count": 8,
     "metadata": {},
     "output_type": "execute_result"
    }
   ],
   "source": [
    "df_list['neighbourhood'].unique()"
   ]
  },
  {
   "cell_type": "code",
   "execution_count": 9,
   "metadata": {},
   "outputs": [
    {
     "data": {
      "text/plain": [
       "250"
      ]
     },
     "execution_count": 9,
     "metadata": {},
     "output_type": "execute_result"
    }
   ],
   "source": [
    "df_list['neighbourhood'].nunique()"
   ]
  },
  {
   "cell_type": "code",
   "execution_count": 10,
   "metadata": {
    "scrolled": true
   },
   "outputs": [
    {
     "data": {
      "text/plain": [
       "Paris, Île-de-France, France                       36352\n",
       "Paris, France                                        989\n",
       "Paris, IDF, France                                   438\n",
       "Paris, Île-de-France Region, France                  212\n",
       "Paris, Ile-de-France, France                          79\n",
       "                                                   ...  \n",
       "Paris 10e, Île-de-France, France                       1\n",
       "Paris-12E-Arrondissement, IDF, France                  1\n",
       "Bagnolet, France, France                               1\n",
       "Paris 11e arrondissement, Île-de-France, France        1\n",
       "Paris 07 Palais-Bourbon, France                        1\n",
       "Name: neighbourhood, Length: 250, dtype: int64"
      ]
     },
     "execution_count": 10,
     "metadata": {},
     "output_type": "execute_result"
    }
   ],
   "source": [
    "df_list['neighbourhood'].value_counts()"
   ]
  },
  {
   "cell_type": "code",
   "execution_count": 11,
   "metadata": {},
   "outputs": [],
   "source": [
    "paris = ['Paris, Île-de-France, France',\n",
    "       'Paris, Ile-de-France, France',\n",
    "       'Paris 11e Arrondissement, Île-de-France, France',\n",
    "       'Paris, IDF, France', 'Paris, France', 'Paris, IdF, France',\n",
    "       'Paris-13E-Arrondissement, Île-de-France, France',\n",
    "       'Paris 5e, France',\n",
    "       'Paris 4e arrondissement, Île-de-France, France',\n",
    "       'Paris, Ile de France, France', 'Paris , Ile-de-France, France',\n",
    "       'Paris 18e, France', 'Paris, Pigalle, France',\n",
    "       'Paris, le marais, France', 'Paris 1e, France',\n",
    "       'PARIS, Île-de-France, France', 'Paris, Paris province, France',\n",
    "       'Paris, Ã\\x8ele-de-France, France', 'Paris 2e, France',\n",
    "       'Paris 11e arrondissement, Île-de-France, France',\n",
    "       'Paris , île de France, France', 'Paris, ile de france, France',\n",
    "       'Paris, France, France',\n",
    "       'PARIS 3eme, Île-de-France, France',\n",
    "       'Paris 1e, Île-de-France, France',\n",
    "       'Paris-19E-Arrondissement, Île-de-France, France',\n",
    "       'París, Île-de-France, France', 'France',\n",
    "       'PARIS 02, Île-de-France, France',\n",
    "       'Paris-10E-Arrondissement, Île-de-France, France',\n",
    "       'Paris 09e, Île-de-France, France', 'Paris 10e, France',\n",
    "       'Paris 6e arrondissement, Île-de-France, France',\n",
    "       'Charenton Le Pont - limitrophe avec paris , Île-de-France, France',\n",
    "       'Paris-11E-Arrondissement, Île-de-France, France',\n",
    "       'Paris-18E-Arrondissement, Île-de-France, France',\n",
    "       'Paris Vincennes, Île-de-France, France', 'Paris 16e, France',\n",
    "       'Paris,  , France',\n",
    "       'Paris-5E-Arrondissement, Île-de-France, France',\n",
    "       'Paris city, Paris province, France',\n",
    "       'Paris 18e, Île-de-France, France',\n",
    "       'Paris 17ème, Île-de-France, France',\n",
    "       'Paris-20E-Arrondissement, Île-de-France, France',\n",
    "       'Paris 09e, France', 'Paris, Ile de france, France',\n",
    "       'Paris-17E-Arrondissement, Île-de-France, France',\n",
    "       'Paris 19e Arrondissement, France',\n",
    "       'Paris 18e Arrondissement, France',\n",
    "       'Paris-2E-Arrondissement, Île-de-France, France',\n",
    "       'Paris-3E-Arrondissement, Île-de-France, France',\n",
    "       'Paris, Montmartre, France', 'paris, Île-de-France, France',\n",
    "       'Paris-1ER-Arrondissement, Île-de-France, France',\n",
    "       'Paris, IDF bis, France',\n",
    "       'Paris , Île-de-France, France',\n",
    "       'Paris-16E-Arrondissement, Île-de-France, France',\n",
    "       'Paris-12E-Arrondissement, Île-de-France, France', 'paris, France',\n",
    "       'Paris-14E-Arrondissement, IDF, France',\n",
    "       'Paris-15E-Arrondissement, Île-de-France, France',\n",
    "       'Paris-4E-Arrondissement, Île-de-France, France',\n",
    "       'Paris, Île-de-Francs, France',\n",
    "       'Paris-3eme-Arrondissement, Île-de-France, France',\n",
    "       'Paris-12E-Arrondissement, IDF, France',\n",
    "       'Paris-20E-Arrondissement, IDF, France',\n",
    "       'Paris-2E-Arrondissement, IDF, France',\n",
    "       'Paris-6E-Arrondissement, Île-de-France, France',\n",
    "       'Paris-9E-Arrondissement, Île-de-France, France',\n",
    "       'Paris, Île de France, France',\n",
    "       'Paris-14E-Arrondissement, Île-de-France, France',\n",
    "       'Paris-7E-Arrondissement, Île-de-France, France',\n",
    "       'Paris-8E-Arrondissement, Île-de-France, France',\n",
    "       'Paris 11e, France',\n",
    "       'Issy-les-Moulineaux/Paris, Île-de-France, France',\n",
    "       'Paris 15e, France',\n",
    "       'Paris-9E-Arrondissement, France', 'PARIS, Idf, France',\n",
    "       'Paris 3e, France', 'Paris, 75, France', 'Paris 14e, France',\n",
    "       'Paris 20e Arrondissement, France', 'PARIS, France, France',\n",
    "       'Paris 3e, Île-de-France, France',\n",
    "       'Paris 16e, Île-de-France, France',\n",
    "       'París, Isla de Francia, France',\n",
    "       'Paris 1er Arrondissement, Île-de-France, France',\n",
    "       'Paris 13e Arrondissement, France',\n",
    "       'Paris, Île-de-France, FR, Paris, France',\n",
    "       'Paris 20e, Île-de-France, France',\n",
    "       'Paris 3e Arrondissement, France',\n",
    "       'Paris 16e Arrondissement, France',\n",
    "       'PARIS , Île-de-France, France', 'Paris 2e, Île-de-France, France',\n",
    "       'Paris 13e, France', 'Paris 11e, Île-de-France, France',\n",
    "       'Paris 9e, France',\n",
    "       'Paris 4e, Île-de-France, France',\n",
    "       'Paris, Île-de-France, FR, île de France, France',\n",
    "       'Paris 8e, Île-de-France, France',\n",
    "       'Paris 12e Arrondissement, Île-de-France, France',\n",
    "       'Paris 15e Arrondissement, Île-de-France, France',\n",
    "       'Paris 7e, France', 'Paris 17e, France',\n",
    "       'Paris-3E-Arrondissement, France', 'Paris, 75015, France',\n",
    "       '., Paris, France',\n",
    "       'Paris 19e Arrondissement, Île-de-France, France', '., France',\n",
    "       'Paris, ., France',\n",
    "       'Paris 2e Arrondissement, Île-de-France, France',\n",
    "       'Paris 9e Arrondissement, France',\n",
    "       'Paris 5e Arrondissement, France',\n",
    "       'Paris 14e Arrondissement, France',\n",
    "       'Paris 18e Arrondissement, Île-de-France, France',\n",
    "       'Paris 3e Arrondissement, Île-de-France, France',\n",
    "       'Paris 17e Arrondissement, Île-de-France, France',\n",
    "       'Paris-17E-Arrondissement, France', 'Île-de-France, Paris, France',\n",
    "       '.Champs-Elysées, PARIS, France',\n",
    "       'Paris 14e, Île-de-France, France',\n",
    "       'Paris-6E-Arrondissement, France',\n",
    "       '9th District, Paris, Paris, France',\n",
    "       'Paris 5e Arrondissement, Île-de-France, France',\n",
    "       'Paris 11e Arrondissement, France',\n",
    "       'Paris 13e Arrondissement, Île-de-France, France',\n",
    "       'Paris, ile de France, France', 'Paris 7e Arrondissement, France',\n",
    "       'Paris, Occitanie, France', 'Paris 20e, France',\n",
    "       'Paris, *, France', 'Paris, .Paris, France',\n",
    "       'Paris 09e, 75, France', 'Paris, Île-de-France Region, France',\n",
    "       'Paris 15e Arrondissement, France',\n",
    "       'Paris 20e Arrondissement, Île-de-France, France',\n",
    "       'Paris, IF, France',\n",
    "       'Paris 7e Arrondissement, Île-de-France, France',\n",
    "       'Paris, Sélectionnez la région, France',\n",
    "       'Paris Centre, Île-de-France, France',\n",
    "       'Paris, ile-de-france, France', 'Parijs, France',\n",
    "       'Paris-15E-Arrondissement, France', 'Paris , Paris, France',\n",
    "       '-, Paris, France', 'PARIS, FRANCE, France', 'Paris , France',\n",
    "       'PARIS, Île-de-France Region, France', 'Paris 19e, France',\n",
    "       'Paris 8e Arrondissement, France',\n",
    "       'Paris 17e, Île-de-France, France', 'PAris, 75, France',\n",
    "       'Paris 12e, France',\n",
    "       'Paris 4e Arrondissement, Île-de-France, France',\n",
    "       'paris, 75, France', 'pairs, France',\n",
    "       '75007, paris, France',\n",
    "       'Paris 11, France', 'Paris 4e, France',\n",
    "       'Paris 5e, Île-de-France, France', 'Paris 14e, 14, France',\n",
    "       'Paris 07, France', 'Paris 11e, 75, France', 'Paris 8e, France',\n",
    "       'Paris 10e Arrondissement, France', 'Paris 6e, France',\n",
    "       'Paris 15, France', 'Paris 19e, 75, France',\n",
    "       'Paris 04, Île-de-France, France',\n",
    "       'Paris 20e Arrondissement, Paris, France', 'Paris 11, 75, France',\n",
    "       'Paris 19e Arrondissement, 75, France', 'Paris 15, 75, France',\n",
    "       'Paris 10e, Île-de-France, France',\n",
    "       'Paris 02, Ile de France, France', 'Paris, 75011, France',\n",
    "       'Paris 20 Ménilmontant, France', 'Paris, 75014, France',\n",
    "       'Paris 09 Opéra, France', 'Paris 13 Gobelins, France',\n",
    "       'Paris 18 Buttes-Montmartre, France',\n",
    "       'Paris 4e Arrondissement, France',\n",
    "       'Paris 12e, Ile de France, France', 'Paris 05 Panthéon, France',\n",
    "       'Paris 15e arrondissement, France', 'Paris 03 Temple, France',\n",
    "       'Paris 6e, Île-de-France, France',\n",
    "       'Paris 07 Palais-Bourbon, France', 'Paris 11 Popincourt, France',\n",
    "       'Paris-2E-Arrondissement, France', 'Paris 04, Paris, France',\n",
    "       'Paris 02 Bourse, France',\n",
    "       'Paris 14e Arrondissement, Île-de-France, France',\n",
    "       'Paris 14e, Paris, France',\n",
    "       'Paris 1e, Paris, France', 'PARIS, France',\n",
    "       'Paris 12 Reuilly, France', 'Paris, île de France, France',\n",
    "       'Paris 6e Arrondissement, France', 'Paris, paris, France',\n",
    "       'paris, 75011, France', 'Paris 04 Hôtel-de-Ville, France',\n",
    "       'Paris 06 Luxembourg, France',\n",
    "       'Paris 16e Arrondissement, Île-de-France, France',\n",
    "       'Paris , 75, France', 'Paris 18, France',\n",
    "       'Paris 12e Arrondissement, France',\n",
    "       'Paris 2e Arrondissement, France',\n",
    "       ]"
   ]
  },
  {
   "cell_type": "code",
   "execution_count": 12,
   "metadata": {},
   "outputs": [
    {
     "data": {
      "text/plain": [
       "20"
      ]
     },
     "execution_count": 12,
     "metadata": {},
     "output_type": "execute_result"
    }
   ],
   "source": [
    "df_list['neighbourhood_cleansed'].nunique()"
   ]
  },
  {
   "cell_type": "code",
   "execution_count": 13,
   "metadata": {
    "scrolled": true
   },
   "outputs": [],
   "source": [
    "df_list.replace(to_replace =paris, \n",
    "                            value =\"Paris, Ile-de-France, France\", inplace=True)"
   ]
  },
  {
   "cell_type": "code",
   "execution_count": 14,
   "metadata": {
    "scrolled": true
   },
   "outputs": [
    {
     "data": {
      "text/plain": [
       "Paris, Ile-de-France, France                   39502\n",
       "Neuilly-sur-Seine, Île-de-France, France          18\n",
       "Boulogne-Billancourt, Île-de-France, France       16\n",
       "Gentilly, Île-de-France, France                   10\n",
       "Levallois-Perret, Île-de-France, France            8\n",
       "Vincennes, Île-de-France, France                   8\n",
       "Le Pré-Saint-Gervais, Île-de-France, France        7\n",
       "Pantin, Île-de-France, France                      7\n",
       "Saint-Ouen, Île-de-France, France                  7\n",
       "Saint-Mandé, Île-de-France, France                 6\n",
       "Clichy, Île-de-France, France                      6\n",
       "Montrouge, Île-de-France, France                   5\n",
       "Issy-les-Moulineaux, Île-de-France, France         4\n",
       "Île-de-France, France                              4\n",
       "Charenton-le-Pont, Île-de-France, France           4\n",
       "Aubervilliers, Île-de-France, France               3\n",
       "Saint-Maurice, Île-de-France, France               3\n",
       "Vanves, Île-de-France, France                      2\n",
       "Les Lilas, Île-de-France, France                   2\n",
       "巴黎, 法兰西岛, France                                   2\n",
       "Le Kremlin-Bicêtre, Île-de-France, France          2\n",
       "Nogent-sur-Marne, Île-de-France, France            2\n",
       "Parigi, Île-de-France, France                      2\n",
       "Ivry-sur-Seine, Île-de-France, France              2\n",
       "Boulogne-Billancourt, IDF, France                  1\n",
       "NEUILLY SUR SEINE, Île-de-France, France           1\n",
       "Issy les moulineaux, Île-de-France, France         1\n",
       "Arrondissement, Île-de-France, France              1\n",
       "vanves, Île-de-France, France                      1\n",
       "SAINT MAURICE, Île-de-France, France               1\n",
       "Joinville-le-Pont, IDF, France                     1\n",
       "Clichy, IDF, France                                1\n",
       "SOULAC SUR MER, France                             1\n",
       "Bagnolet, Île-de-France, France                    1\n",
       "Bagnolet, France, France                           1\n",
       "issy les moulineaux, France, France                1\n",
       "Issy-les-Moulineaux, France                        1\n",
       "Sénas, Provence-Alpes-Côte d'Azur, France          1\n",
       "Issy-les-Moulineaux, IDF, France                   1\n",
       " Deuil-la-Barre , Île-de-France, France            1\n",
       "Mbalmayo , Île-de-France, Cameroon                 1\n",
       "Neuilly Sur Seine , Île-de-France, France          1\n",
       "Suresnes, Île-de-France, France                    1\n",
       "Name: neighbourhood, dtype: int64"
      ]
     },
     "execution_count": 14,
     "metadata": {},
     "output_type": "execute_result"
    }
   ],
   "source": [
    "#Où investir ? \n",
    "df_list['neighbourhood'].value_counts()"
   ]
  },
  {
   "cell_type": "code",
   "execution_count": 15,
   "metadata": {
    "scrolled": true
   },
   "outputs": [
    {
     "data": {
      "text/plain": [
       "Paris, Ile-de-France, France                   0.599269\n",
       "NaN                                            0.398471\n",
       "Neuilly-sur-Seine, Île-de-France, France       0.000273\n",
       "Boulogne-Billancourt, Île-de-France, France    0.000243\n",
       "Gentilly, Île-de-France, France                0.000152\n",
       "Name: neighbourhood, dtype: float64"
      ]
     },
     "execution_count": 15,
     "metadata": {},
     "output_type": "execute_result"
    }
   ],
   "source": [
    "# Répartition des logements par ville!\n",
    "df_list['neighbourhood'].value_counts(dropna = False, normalize = True).head()"
   ]
  },
  {
   "cell_type": "code",
   "execution_count": 16,
   "metadata": {
    "scrolled": true
   },
   "outputs": [
    {
     "data": {
      "image/png": "[encoded data removed]",
      "text/plain": [
       "<Figure size 720x432 with 1 Axes>"
      ]
     },
     "metadata": {},
     "output_type": "display_data"
    }
   ],
   "source": [
    "#Créer les graphiques!\n",
    "plt.figure(figsize=(10,6))\n",
    "labels = ['Paris', 'Donées Manquantes', 'Neuilly-sur-Seine', 'Boulogne-Billancourt', 'Gentilly']\n",
    "colors = ['#ff9999','#66b3ff','#99ff99','#ffcc99','#fffc52']\n",
    "area = [64.04, 41.63, 0.32, 0.32, 0.42]\n",
    "# facteur de mutipication 60*1.06744186 = 64.04\n",
    "explode = (0.05,0.05,0.1,0.1,0.1)\n",
    "plt.pie(area, labels=labels, explode=explode, colors= colors, startangle=65, autopct='%1.1f%%',shadow='True')\n",
    "plt.title(label= 'Répartition des logements par ville')\n",
    "plt.legend()\n",
    "plt.show()"
   ]
  },
  {
   "cell_type": "markdown",
   "metadata": {},
   "source": [
    "Nous constatons que **Paris, Ile-de-France, France** represente 60% des villes ou les logements airbnb sont les plus sollicités.\n",
    "Donc il faudrait investir à **Paris, Ile-de-France, France**"
   ]
  },
  {
   "cell_type": "code",
   "execution_count": 17,
   "metadata": {},
   "outputs": [
    {
     "data": {
      "text/plain": [
       "array(['Entrepôt', 'Observatoire', 'Temple', 'Hôtel-de-Ville', 'Opéra',\n",
       "       'Louvre', 'Popincourt', 'Buttes-Montmartre', 'Élysée', 'Panthéon',\n",
       "       'Gobelins', 'Luxembourg', 'Buttes-Chaumont', 'Palais-Bourbon',\n",
       "       'Reuilly', 'Bourse', 'Ménilmontant', 'Vaugirard',\n",
       "       'Batignolles-Monceau', 'Passy'], dtype=object)"
      ]
     },
     "execution_count": 17,
     "metadata": {},
     "output_type": "execute_result"
    }
   ],
   "source": [
    "df_list['neighbourhood_cleansed'].unique()"
   ]
  },
  {
   "cell_type": "code",
   "execution_count": 18,
   "metadata": {},
   "outputs": [
    {
     "data": {
      "text/plain": [
       "20"
      ]
     },
     "execution_count": 18,
     "metadata": {},
     "output_type": "execute_result"
    }
   ],
   "source": [
    "df_list['neighbourhood_cleansed'].nunique()"
   ]
  },
  {
   "cell_type": "code",
   "execution_count": 19,
   "metadata": {
    "scrolled": true
   },
   "outputs": [
    {
     "data": {
      "text/plain": [
       "Buttes-Montmartre      0.111671\n",
       "Popincourt             0.096394\n",
       "Vaugirard              0.074685\n",
       "Entrepôt               0.071469\n",
       "Batignolles-Monceau    0.066933\n",
       "Name: neighbourhood_cleansed, dtype: float64"
      ]
     },
     "execution_count": 19,
     "metadata": {},
     "output_type": "execute_result"
    }
   ],
   "source": [
    "# Répartition des logements par quartier!\n",
    "df_list['neighbourhood_cleansed'].value_counts(dropna = False, normalize = True).head()"
   ]
  },
  {
   "cell_type": "code",
   "execution_count": 20,
   "metadata": {},
   "outputs": [
    {
     "data": {
      "text/plain": [
       "<AxesSubplot:>"
      ]
     },
     "execution_count": 20,
     "metadata": {},
     "output_type": "execute_result"
    },
    {
     "data": {
      "image/png": "[encoded data removed]",
      "text/plain": [
       "<Figure size 432x288 with 1 Axes>"
      ]
     },
     "metadata": {
      "needs_background": "light"
     },
     "output_type": "display_data"
    }
   ],
   "source": [
    "df_list['neighbourhood_cleansed'].value_counts().plot.bar()"
   ]
  },
  {
   "cell_type": "code",
   "execution_count": 21,
   "metadata": {
    "scrolled": true
   },
   "outputs": [
    {
     "data": {
      "image/png": "[encoded data removed]",
      "text/plain": [
       "<Figure size 720x576 with 1 Axes>"
      ]
     },
     "metadata": {},
     "output_type": "display_data"
    }
   ],
   "source": [
    "#Créer les graphiques!\n",
    "plt.figure(figsize=(10,8))\n",
    "labels = ['Buttes-Montmartre', 'Popincourt', 'Vaugirard', 'Entrepôt', 'Batignolles-Monceau']\n",
    "colors = ['#ff9999','#66b3ff','#99ff99','#ffcc99','#fffc52']\n",
    "area = [28.28, 24.44, 18.89, 18.14, 16.97]\n",
    "#area = [91.93, 6.88, 0.82, 0.28,0.056] facteur de mutipication 26.5*1.06744186 = 28.28\n",
    "explode = (0.05,0.05,0.1,0.1,0.1)\n",
    "plt.pie(area, labels=labels, explode=explode, colors= colors, startangle=65, autopct='%1.1f%%',shadow='True')\n",
    "plt.title(label= 'Répartition des logements par quartier')\n",
    "plt.legend()\n",
    "plt.show()"
   ]
  },
  {
   "cell_type": "markdown",
   "metadata": {},
   "source": [
    "Nous constatons que **Buttes-Montmartre** represente 26.5% des quartiers ou les logements airbnb sont les plus sollicités.\n",
    "Donc il faudrait investir à **Buttes-Montmartre**"
   ]
  },
  {
   "cell_type": "code",
   "execution_count": 22,
   "metadata": {},
   "outputs": [
    {
     "data": {
      "text/plain": [
       "array(['Entire home/apt', 'Private room', 'Hotel room', 'Shared room'],\n",
       "      dtype=object)"
      ]
     },
     "execution_count": 22,
     "metadata": {},
     "output_type": "execute_result"
    }
   ],
   "source": [
    "df_list['room_type'].unique()"
   ]
  },
  {
   "cell_type": "code",
   "execution_count": 23,
   "metadata": {
    "scrolled": true
   },
   "outputs": [
    {
     "data": {
      "text/plain": [
       "Entire home/apt    0.858549\n",
       "Private room       0.113961\n",
       "Hotel room         0.021133\n",
       "Shared room        0.006356\n",
       "Name: room_type, dtype: float64"
      ]
     },
     "execution_count": 23,
     "metadata": {},
     "output_type": "execute_result"
    }
   ],
   "source": [
    "# Répartition des type de bien!\n",
    "df_list['room_type'].value_counts(dropna = False, normalize = True).head()"
   ]
  },
  {
   "cell_type": "code",
   "execution_count": 24,
   "metadata": {},
   "outputs": [
    {
     "data": {
      "text/plain": [
       "<AxesSubplot:>"
      ]
     },
     "execution_count": 24,
     "metadata": {},
     "output_type": "execute_result"
    },
    {
     "data": {
      "image/png": "[encoded data removed]",
      "text/plain": [
       "<Figure size 432x288 with 1 Axes>"
      ]
     },
     "metadata": {
      "needs_background": "light"
     },
     "output_type": "display_data"
    }
   ],
   "source": [
    "df_list['room_type'].value_counts().plot.bar()"
   ]
  },
  {
   "cell_type": "code",
   "execution_count": 25,
   "metadata": {
    "scrolled": true
   },
   "outputs": [
    {
     "data": {
      "image/png": "[encoded data removed]",
      "text/plain": [
       "<Figure size 720x576 with 1 Axes>"
      ]
     },
     "metadata": {},
     "output_type": "display_data"
    }
   ],
   "source": [
    "#Créer les graphiques!\n",
    "plt.figure(figsize=(10,8))\n",
    "labels = ['Maison/appartement entier', 'Chambre privée', \"Chambre d'hôtel\", 'Pièce partagée']\n",
    "colors = ['#ff9999','#66b3ff','#99ff99','#ffcc99']\n",
    "area = [91.8, 12.16, 2.13, 0.64]\n",
    "#facteur de mutipication 86*1.06744186 = 91.8\n",
    "explode = (0.05,0.05,0.1,0.1)\n",
    "plt.pie(area, labels=labels, explode=explode, colors= colors, startangle=65, autopct='%1.1f%%',shadow='True')\n",
    "plt.title(label= 'Répartition des type de bien')\n",
    "plt.legend()\n",
    "plt.show()"
   ]
  },
  {
   "cell_type": "markdown",
   "metadata": {},
   "source": [
    "Nous constatons que **Maison/appartement entier** represente 86% des type de bien les plus sollicités. Donc il faudrait investir dans des **Maison/appartement entier**"
   ]
  },
  {
   "cell_type": "markdown",
   "metadata": {},
   "source": [
    "Il faut eviter les **Pièce partagée** car elles representent 0.64% des type de bien sollicités sur airbnb"
   ]
  },
  {
   "cell_type": "code",
   "execution_count": 26,
   "metadata": {},
   "outputs": [
    {
     "name": "stdout",
     "output_type": "stream",
     "text": [
      "0         Entire loft\n",
      "1    Entire apartment\n",
      "2    Entire apartment\n",
      "3    Entire apartment\n",
      "4    Entire apartment\n",
      "Name: property_type, dtype: object\n",
      "\n",
      "\n",
      "Entire apartment             0.932288\n",
      "Entire condominium           0.031771\n",
      "Entire loft                  0.019737\n",
      "Entire house                 0.006220\n",
      "Entire serviced apartment    0.003022\n",
      "Name: property_type, dtype: float64\n"
     ]
    }
   ],
   "source": [
    "#Exemples de types de bien à acheter\n",
    "print(df_list[df_list.room_type == 'Entire home/apt']['property_type'].head())\n",
    "print('\\n')\n",
    "\n",
    "print(df_list[df_list.room_type == 'Entire home/apt']['property_type'].value_counts(dropna = False, normalize = True).head())"
   ]
  },
  {
   "cell_type": "code",
   "execution_count": 27,
   "metadata": {
    "scrolled": true
   },
   "outputs": [
    {
     "name": "stdout",
     "output_type": "stream",
     "text": [
      "414     Shared room in apartment\n",
      "818     Shared room in apartment\n",
      "1460    Shared room in apartment\n",
      "1617    Shared room in apartment\n",
      "1909    Shared room in apartment\n",
      "Name: property_type, dtype: object\n",
      "\n",
      "\n",
      "Shared room in apartment            0.699284\n",
      "Shared room in hostel               0.126492\n",
      "Shared room in condominium          0.064439\n",
      "Shared room in bed and breakfast    0.062053\n",
      "Shared room in loft                 0.016706\n",
      "Name: property_type, dtype: float64\n"
     ]
    }
   ],
   "source": [
    "#Exemples de types de bien à éviter\n",
    "print(df_list[df_list.room_type == 'Shared room']['property_type'].head())\n",
    "print('\\n')\n",
    "\n",
    "print(df_list[df_list.room_type == 'Shared room']['property_type'].value_counts(dropna = False, normalize = True).head())"
   ]
  },
  {
   "cell_type": "code",
   "execution_count": 28,
   "metadata": {},
   "outputs": [
    {
     "data": {
      "text/plain": [
       "<AxesSubplot:>"
      ]
     },
     "execution_count": 28,
     "metadata": {},
     "output_type": "execute_result"
    },
    {
     "data": {
      "image/png": "[encoded data removed]",
      "text/plain": [
       "<Figure size 432x288 with 1 Axes>"
      ]
     },
     "metadata": {
      "needs_background": "light"
     },
     "output_type": "display_data"
    }
   ],
   "source": [
    "#-\tDistribution du nombre de personne par location airbnb\n",
    "df_list[\"accommodates\"].hist()"
   ]
  },
  {
   "cell_type": "code",
   "execution_count": 29,
   "metadata": {},
   "outputs": [
    {
     "data": {
      "text/plain": [
       "array([ 4,  2,  3,  6,  5,  1,  7,  8,  9, 10, 14, 12, 11, 16, 15, 13,  0],\n",
       "      dtype=int64)"
      ]
     },
     "execution_count": 29,
     "metadata": {},
     "output_type": "execute_result"
    }
   ],
   "source": [
    "df_list[\"accommodates\"].unique()"
   ]
  },
  {
   "cell_type": "code",
   "execution_count": 30,
   "metadata": {},
   "outputs": [
    {
     "data": {
      "text/plain": [
       "2    0.488812\n",
       "4    0.246841\n",
       "3    0.095635\n",
       "6    0.054205\n",
       "1    0.048758\n",
       "Name: accommodates, dtype: float64"
      ]
     },
     "execution_count": 30,
     "metadata": {},
     "output_type": "execute_result"
    }
   ],
   "source": [
    "df_list[\"accommodates\"].value_counts(dropna = False, normalize = True).head()"
   ]
  },
  {
   "cell_type": "code",
   "execution_count": 31,
   "metadata": {},
   "outputs": [],
   "source": [
    "#df_list[['room_type','property_type']].tail()"
   ]
  },
  {
   "cell_type": "code",
   "execution_count": 32,
   "metadata": {
    "scrolled": true
   },
   "outputs": [
    {
     "data": {
      "text/plain": [
       "Entire apartment             0.800416\n",
       "Private room in apartment    0.085122\n",
       "Entire condominium           0.027277\n",
       "Room in boutique hotel       0.026230\n",
       "Entire loft                  0.016946\n",
       "Name: property_type, dtype: float64"
      ]
     },
     "execution_count": 32,
     "metadata": {},
     "output_type": "execute_result"
    }
   ],
   "source": [
    "# Répartition des type de bien! \n",
    "df_list['property_type'].value_counts(dropna = False, normalize = True).head()"
   ]
  },
  {
   "cell_type": "code",
   "execution_count": 33,
   "metadata": {},
   "outputs": [],
   "source": [
    "df_list['price'] = df_list['price'].str.replace('$','')\n",
    "df_list['price'] = df_list['price'].str.replace(',','').astype('float64')"
   ]
  },
  {
   "cell_type": "code",
   "execution_count": 34,
   "metadata": {},
   "outputs": [
    {
     "data": {
      "text/plain": [
       "83.05139350180505"
      ]
     },
     "execution_count": 34,
     "metadata": {},
     "output_type": "execute_result"
    }
   ],
   "source": [
    "\n",
    "df_list[(df_list.accommodates == 2) & (df_list.last_scraped < '2020-12-31')].price.mean() ###\n"
   ]
  },
  {
   "cell_type": "code",
   "execution_count": 35,
   "metadata": {},
   "outputs": [
    {
     "data": {
      "text/plain": [
       "84.84210526315789"
      ]
     },
     "execution_count": 35,
     "metadata": {},
     "output_type": "execute_result"
    }
   ],
   "source": [
    "df_list[(df_list.accommodates == 2) & (df_list.last_scraped > '2020-12-31')].price.mean() #Prix moyen d’une location airbnb pour deux personnes sur l’année 2021"
   ]
  },
  {
   "cell_type": "markdown",
   "metadata": {},
   "source": [
    "Le Prix moyen d’une location airbnb pour deux personnes sur l’année 2021 est de **84.84€**"
   ]
  },
  {
   "cell_type": "code",
   "execution_count": 36,
   "metadata": {},
   "outputs": [],
   "source": [
    "#df_list.to_csv('airbnb_liste' ,index=False)"
   ]
  },
  {
   "cell_type": "code",
   "execution_count": 37,
   "metadata": {
    "scrolled": true
   },
   "outputs": [
    {
     "data": {
      "text/html": [
       "<div>\n",
       "<style scoped>\n",
       "    .dataframe tbody tr th:only-of-type {\n",
       "        vertical-align: middle;\n",
       "    }\n",
       "\n",
       "    .dataframe tbody tr th {\n",
       "        vertical-align: top;\n",
       "    }\n",
       "\n",
       "    .dataframe thead th {\n",
       "        text-align: right;\n",
       "    }\n",
       "</style>\n",
       "<table border=\"1\" class=\"dataframe\">\n",
       "  <thead>\n",
       "    <tr style=\"text-align: right;\">\n",
       "      <th></th>\n",
       "      <th>id</th>\n",
       "      <th>last_scraped</th>\n",
       "      <th>name</th>\n",
       "      <th>neighborhood_overview</th>\n",
       "      <th>neighbourhood</th>\n",
       "      <th>neighbourhood_cleansed</th>\n",
       "      <th>latitude</th>\n",
       "      <th>longitude</th>\n",
       "      <th>property_type</th>\n",
       "      <th>room_type</th>\n",
       "      <th>accommodates</th>\n",
       "      <th>bedrooms</th>\n",
       "      <th>beds</th>\n",
       "      <th>price</th>\n",
       "      <th>minimum_nights</th>\n",
       "      <th>maximum_nights</th>\n",
       "    </tr>\n",
       "  </thead>\n",
       "  <tbody>\n",
       "    <tr>\n",
       "      <th>0</th>\n",
       "      <td>2577</td>\n",
       "      <td>2020-12-16</td>\n",
       "      <td>Loft for 4 by Canal Saint Martin</td>\n",
       "      <td>NaN</td>\n",
       "      <td>NaN</td>\n",
       "      <td>Entrepôt</td>\n",
       "      <td>48.86993</td>\n",
       "      <td>2.36251</td>\n",
       "      <td>Entire loft</td>\n",
       "      <td>Entire home/apt</td>\n",
       "      <td>4</td>\n",
       "      <td>2.0</td>\n",
       "      <td>2.0</td>\n",
       "      <td>125.0</td>\n",
       "      <td>3</td>\n",
       "      <td>1125</td>\n",
       "    </tr>\n",
       "    <tr>\n",
       "      <th>1</th>\n",
       "      <td>3109</td>\n",
       "      <td>2020-12-17</td>\n",
       "      <td>zen and calm</td>\n",
       "      <td>Good restaurants&lt;br /&gt;very close the Montparna...</td>\n",
       "      <td>Paris, Ile-de-France, France</td>\n",
       "      <td>Observatoire</td>\n",
       "      <td>48.83349</td>\n",
       "      <td>2.31852</td>\n",
       "      <td>Entire apartment</td>\n",
       "      <td>Entire home/apt</td>\n",
       "      <td>2</td>\n",
       "      <td>NaN</td>\n",
       "      <td>1.0</td>\n",
       "      <td>60.0</td>\n",
       "      <td>2</td>\n",
       "      <td>30</td>\n",
       "    </tr>\n",
       "    <tr>\n",
       "      <th>2</th>\n",
       "      <td>4890</td>\n",
       "      <td>2020-12-16</td>\n",
       "      <td>Quiet Historic &amp; Cute  +Free Cruise</td>\n",
       "      <td>Called \"Paris Next Great Neighborhood\" from Tr...</td>\n",
       "      <td>Paris, Ile-de-France, France</td>\n",
       "      <td>Temple</td>\n",
       "      <td>48.86409</td>\n",
       "      <td>2.35651</td>\n",
       "      <td>Entire apartment</td>\n",
       "      <td>Entire home/apt</td>\n",
       "      <td>4</td>\n",
       "      <td>1.0</td>\n",
       "      <td>2.0</td>\n",
       "      <td>69.0</td>\n",
       "      <td>5</td>\n",
       "      <td>120</td>\n",
       "    </tr>\n",
       "    <tr>\n",
       "      <th>3</th>\n",
       "      <td>5396</td>\n",
       "      <td>2020-12-16</td>\n",
       "      <td>Explore the heart of old Paris</td>\n",
       "      <td>You are within walking distance to the Louvre,...</td>\n",
       "      <td>Paris, Ile-de-France, France</td>\n",
       "      <td>Hôtel-de-Ville</td>\n",
       "      <td>48.85207</td>\n",
       "      <td>2.35871</td>\n",
       "      <td>Entire apartment</td>\n",
       "      <td>Entire home/apt</td>\n",
       "      <td>2</td>\n",
       "      <td>NaN</td>\n",
       "      <td>1.0</td>\n",
       "      <td>62.0</td>\n",
       "      <td>1</td>\n",
       "      <td>1125</td>\n",
       "    </tr>\n",
       "    <tr>\n",
       "      <th>4</th>\n",
       "      <td>7397</td>\n",
       "      <td>2020-12-16</td>\n",
       "      <td>MARAIS - 2ROOMS APT - 2/4 PEOPLE</td>\n",
       "      <td>NaN</td>\n",
       "      <td>NaN</td>\n",
       "      <td>Hôtel-de-Ville</td>\n",
       "      <td>48.85758</td>\n",
       "      <td>2.35275</td>\n",
       "      <td>Entire apartment</td>\n",
       "      <td>Entire home/apt</td>\n",
       "      <td>4</td>\n",
       "      <td>2.0</td>\n",
       "      <td>2.0</td>\n",
       "      <td>53.0</td>\n",
       "      <td>15</td>\n",
       "      <td>130</td>\n",
       "    </tr>\n",
       "    <tr>\n",
       "      <th>...</th>\n",
       "      <td>...</td>\n",
       "      <td>...</td>\n",
       "      <td>...</td>\n",
       "      <td>...</td>\n",
       "      <td>...</td>\n",
       "      <td>...</td>\n",
       "      <td>...</td>\n",
       "      <td>...</td>\n",
       "      <td>...</td>\n",
       "      <td>...</td>\n",
       "      <td>...</td>\n",
       "      <td>...</td>\n",
       "      <td>...</td>\n",
       "      <td>...</td>\n",
       "      <td>...</td>\n",
       "      <td>...</td>\n",
       "    </tr>\n",
       "    <tr>\n",
       "      <th>65912</th>\n",
       "      <td>47021162</td>\n",
       "      <td>2020-12-16</td>\n",
       "      <td>JUNIOR SUITE 2 A 3 PERSONNES</td>\n",
       "      <td>L'hôtel Golden Tulip Washington Opera était au...</td>\n",
       "      <td>Paris, Ile-de-France, France</td>\n",
       "      <td>Louvre</td>\n",
       "      <td>48.86594</td>\n",
       "      <td>2.33800</td>\n",
       "      <td>Room in hotel</td>\n",
       "      <td>Private room</td>\n",
       "      <td>2</td>\n",
       "      <td>1.0</td>\n",
       "      <td>1.0</td>\n",
       "      <td>176.0</td>\n",
       "      <td>1</td>\n",
       "      <td>15</td>\n",
       "    </tr>\n",
       "    <tr>\n",
       "      <th>65913</th>\n",
       "      <td>47024721</td>\n",
       "      <td>2020-12-15</td>\n",
       "      <td>\"La Sorbonne\" Amazing Loft (841)</td>\n",
       "      <td>The Latin Quarter is surely one of the most po...</td>\n",
       "      <td>Paris, Ile-de-France, France</td>\n",
       "      <td>Panthéon</td>\n",
       "      <td>48.84766</td>\n",
       "      <td>2.34761</td>\n",
       "      <td>Entire apartment</td>\n",
       "      <td>Entire home/apt</td>\n",
       "      <td>4</td>\n",
       "      <td>1.0</td>\n",
       "      <td>2.0</td>\n",
       "      <td>1179.0</td>\n",
       "      <td>1</td>\n",
       "      <td>1125</td>\n",
       "    </tr>\n",
       "    <tr>\n",
       "      <th>65914</th>\n",
       "      <td>47024723</td>\n",
       "      <td>2020-12-15</td>\n",
       "      <td>\"La Sorbonne\" Amazing Loft (841)</td>\n",
       "      <td>The Latin Quarter is surely one of the most po...</td>\n",
       "      <td>Paris, Ile-de-France, France</td>\n",
       "      <td>Panthéon</td>\n",
       "      <td>48.84710</td>\n",
       "      <td>2.34751</td>\n",
       "      <td>Entire apartment</td>\n",
       "      <td>Entire home/apt</td>\n",
       "      <td>4</td>\n",
       "      <td>1.0</td>\n",
       "      <td>2.0</td>\n",
       "      <td>1179.0</td>\n",
       "      <td>1</td>\n",
       "      <td>1125</td>\n",
       "    </tr>\n",
       "    <tr>\n",
       "      <th>65915</th>\n",
       "      <td>47025787</td>\n",
       "      <td>2020-12-16</td>\n",
       "      <td>Chambre privée dans le salon à Paris 75019.</td>\n",
       "      <td>NaN</td>\n",
       "      <td>NaN</td>\n",
       "      <td>Buttes-Chaumont</td>\n",
       "      <td>48.89255</td>\n",
       "      <td>2.37625</td>\n",
       "      <td>Private room in apartment</td>\n",
       "      <td>Private room</td>\n",
       "      <td>1</td>\n",
       "      <td>1.0</td>\n",
       "      <td>0.0</td>\n",
       "      <td>24.0</td>\n",
       "      <td>1</td>\n",
       "      <td>365</td>\n",
       "    </tr>\n",
       "    <tr>\n",
       "      <th>65916</th>\n",
       "      <td>47029229</td>\n",
       "      <td>2020-12-15</td>\n",
       "      <td>THE PARISIAN NEST - 3 room with balcony - 60m2</td>\n",
       "      <td>Down the street, there are many small boutique...</td>\n",
       "      <td>Paris, Ile-de-France, France</td>\n",
       "      <td>Buttes-Chaumont</td>\n",
       "      <td>48.88787</td>\n",
       "      <td>2.39222</td>\n",
       "      <td>Entire apartment</td>\n",
       "      <td>Entire home/apt</td>\n",
       "      <td>2</td>\n",
       "      <td>1.0</td>\n",
       "      <td>1.0</td>\n",
       "      <td>110.0</td>\n",
       "      <td>7</td>\n",
       "      <td>1125</td>\n",
       "    </tr>\n",
       "  </tbody>\n",
       "</table>\n",
       "<p>65917 rows × 16 columns</p>\n",
       "</div>"
      ],
      "text/plain": [
       "             id last_scraped                                            name  \\\n",
       "0          2577   2020-12-16                Loft for 4 by Canal Saint Martin   \n",
       "1          3109   2020-12-17                                    zen and calm   \n",
       "2          4890   2020-12-16             Quiet Historic & Cute  +Free Cruise   \n",
       "3          5396   2020-12-16                  Explore the heart of old Paris   \n",
       "4          7397   2020-12-16                MARAIS - 2ROOMS APT - 2/4 PEOPLE   \n",
       "...         ...          ...                                             ...   \n",
       "65912  47021162   2020-12-16                    JUNIOR SUITE 2 A 3 PERSONNES   \n",
       "65913  47024721   2020-12-15                \"La Sorbonne\" Amazing Loft (841)   \n",
       "65914  47024723   2020-12-15                \"La Sorbonne\" Amazing Loft (841)   \n",
       "65915  47025787   2020-12-16     Chambre privée dans le salon à Paris 75019.   \n",
       "65916  47029229   2020-12-15  THE PARISIAN NEST - 3 room with balcony - 60m2   \n",
       "\n",
       "                                   neighborhood_overview  \\\n",
       "0                                                    NaN   \n",
       "1      Good restaurants<br />very close the Montparna...   \n",
       "2      Called \"Paris Next Great Neighborhood\" from Tr...   \n",
       "3      You are within walking distance to the Louvre,...   \n",
       "4                                                    NaN   \n",
       "...                                                  ...   \n",
       "65912  L'hôtel Golden Tulip Washington Opera était au...   \n",
       "65913  The Latin Quarter is surely one of the most po...   \n",
       "65914  The Latin Quarter is surely one of the most po...   \n",
       "65915                                                NaN   \n",
       "65916  Down the street, there are many small boutique...   \n",
       "\n",
       "                      neighbourhood neighbourhood_cleansed  latitude  \\\n",
       "0                               NaN               Entrepôt  48.86993   \n",
       "1      Paris, Ile-de-France, France           Observatoire  48.83349   \n",
       "2      Paris, Ile-de-France, France                 Temple  48.86409   \n",
       "3      Paris, Ile-de-France, France         Hôtel-de-Ville  48.85207   \n",
       "4                               NaN         Hôtel-de-Ville  48.85758   \n",
       "...                             ...                    ...       ...   \n",
       "65912  Paris, Ile-de-France, France                 Louvre  48.86594   \n",
       "65913  Paris, Ile-de-France, France               Panthéon  48.84766   \n",
       "65914  Paris, Ile-de-France, France               Panthéon  48.84710   \n",
       "65915                           NaN        Buttes-Chaumont  48.89255   \n",
       "65916  Paris, Ile-de-France, France        Buttes-Chaumont  48.88787   \n",
       "\n",
       "       longitude              property_type        room_type  accommodates  \\\n",
       "0        2.36251                Entire loft  Entire home/apt             4   \n",
       "1        2.31852           Entire apartment  Entire home/apt             2   \n",
       "2        2.35651           Entire apartment  Entire home/apt             4   \n",
       "3        2.35871           Entire apartment  Entire home/apt             2   \n",
       "4        2.35275           Entire apartment  Entire home/apt             4   \n",
       "...          ...                        ...              ...           ...   \n",
       "65912    2.33800              Room in hotel     Private room             2   \n",
       "65913    2.34761           Entire apartment  Entire home/apt             4   \n",
       "65914    2.34751           Entire apartment  Entire home/apt             4   \n",
       "65915    2.37625  Private room in apartment     Private room             1   \n",
       "65916    2.39222           Entire apartment  Entire home/apt             2   \n",
       "\n",
       "       bedrooms  beds   price  minimum_nights  maximum_nights  \n",
       "0           2.0   2.0   125.0               3            1125  \n",
       "1           NaN   1.0    60.0               2              30  \n",
       "2           1.0   2.0    69.0               5             120  \n",
       "3           NaN   1.0    62.0               1            1125  \n",
       "4           2.0   2.0    53.0              15             130  \n",
       "...         ...   ...     ...             ...             ...  \n",
       "65912       1.0   1.0   176.0               1              15  \n",
       "65913       1.0   2.0  1179.0               1            1125  \n",
       "65914       1.0   2.0  1179.0               1            1125  \n",
       "65915       1.0   0.0    24.0               1             365  \n",
       "65916       1.0   1.0   110.0               7            1125  \n",
       "\n",
       "[65917 rows x 16 columns]"
      ]
     },
     "execution_count": 37,
     "metadata": {},
     "output_type": "execute_result"
    }
   ],
   "source": [
    "df_list = pd.read_csv('airbnb_liste')\n",
    "df_list"
   ]
  },
  {
   "cell_type": "code",
   "execution_count": 38,
   "metadata": {},
   "outputs": [
    {
     "data": {
      "text/plain": [
       "id                         0.000000\n",
       "last_scraped               0.000000\n",
       "name                       0.097092\n",
       "neighborhood_overview     39.847080\n",
       "neighbourhood             39.847080\n",
       "neighbourhood_cleansed     0.000000\n",
       "latitude                   0.000000\n",
       "longitude                  0.000000\n",
       "property_type              0.000000\n",
       "room_type                  0.000000\n",
       "accommodates               0.000000\n",
       "bedrooms                  20.619870\n",
       "beds                       0.910236\n",
       "price                      0.000000\n",
       "minimum_nights             0.000000\n",
       "maximum_nights             0.000000\n",
       "dtype: float64"
      ]
     },
     "execution_count": 38,
     "metadata": {},
     "output_type": "execute_result"
    }
   ],
   "source": [
    "#Vérifier le taux des données manquantes dans la base brutes\n",
    "df_list.isnull().sum()/len(df_list)*100"
   ]
  },
  {
   "cell_type": "code",
   "execution_count": 39,
   "metadata": {
    "scrolled": true
   },
   "outputs": [],
   "source": [
    "#pip install folium"
   ]
  },
  {
   "cell_type": "code",
   "execution_count": 40,
   "metadata": {},
   "outputs": [],
   "source": [
    "import folium\n",
    "\n",
    "\n",
    "m = folium.Map(location=[48.83349, 2.31852], zoom_start=13)"
   ]
  },
  {
   "cell_type": "code",
   "execution_count": 41,
   "metadata": {
    "scrolled": false
   },
   "outputs": [
    {
     "data": {
      "text/html": [
       "<div style=\"width:100%;\"><div style=\"position:relative;width:100%;height:0;padding-bottom:60%;\"><span style=\"color:#565656\">Make this Notebook Trusted to load map: File -> Trust Notebook</span><iframe src=\"about:blank\" style=\"position:absolute;width:100%;height:100%;left:0;top:0;border:none !important;\" data-html=%3C%21DOCTYPE%20html%3E%0A%3Chead%3E%20%20%20%20%0A%20%20%20%20%3Cmeta%20http-equiv%3D%22content-type%22%20content%3D%22text/html%3B%20charset%3DUTF-8%22%20/%3E%0A%20%20%20%20%0A%20%20%20%20%20%20%20%20%3Cscript%3E%0A%20%20%20%20%20%20%20%20%20%20%20%20L_NO_TOUCH%20%3D%20false%3B%0A%20%20%20%20%20%20%20%20%20%20%20%20L_DISABLE_3D%20%3D%20false%3B%0A%20%20%20%20%20%20%20%20%3C/script%3E%0A%20%20%20%20%0A%20%20%20%20%3Cstyle%3Ehtml%2C%20body%20%7Bwidth%3A%20100%25%3Bheight%3A%20100%25%3Bmargin%3A%200%3Bpadding%3A%200%3B%7D%3C/style%3E%0A%20%20%20%20%3Cstyle%3E%23map%20%7Bposition%3Aabsolute%3Btop%3A0%3Bbottom%3A0%3Bright%3A0%3Bleft%3A0%3B%7D%3C/style%3E%0A%20%20%20%20%3Cscript%20src%3D%22https%3A//cdn.jsdelivr.net/npm/leaflet%401.6.0/dist/leaflet.js%22%3E%3C/script%3E%0A%20%20%20%20%3Cscript%20src%3D%22https%3A//code.jquery.com/jquery-1.12.4.min.js%22%3E%3C/script%3E%0A%20%20%20%20%3Cscript%20src%3D%22https%3A//maxcdn.bootstrapcdn.com/bootstrap/3.2.0/js/bootstrap.min.js%22%3E%3C/script%3E%0A%20%20%20%20%3Cscript%20src%3D%22https%3A//cdnjs.cloudflare.com/ajax/libs/Leaflet.awesome-markers/2.0.2/leaflet.awesome-markers.js%22%3E%3C/script%3E%0A%20%20%20%20%3Clink%20rel%3D%22stylesheet%22%20href%3D%22https%3A//cdn.jsdelivr.net/npm/leaflet%401.6.0/dist/leaflet.css%22/%3E%0A%20%20%20%20%3Clink%20rel%3D%22stylesheet%22%20href%3D%22https%3A//maxcdn.bootstrapcdn.com/bootstrap/3.2.0/css/bootstrap.min.css%22/%3E%0A%20%20%20%20%3Clink%20rel%3D%22stylesheet%22%20href%3D%22https%3A//maxcdn.bootstrapcdn.com/bootstrap/3.2.0/css/bootstrap-theme.min.css%22/%3E%0A%20%20%20%20%3Clink%20rel%3D%22stylesheet%22%20href%3D%22https%3A//maxcdn.bootstrapcdn.com/font-awesome/4.6.3/css/font-awesome.min.css%22/%3E%0A%20%20%20%20%3Clink%20rel%3D%22stylesheet%22%20href%3D%22https%3A//cdnjs.cloudflare.com/ajax/libs/Leaflet.awesome-markers/2.0.2/leaflet.awesome-markers.css%22/%3E%0A%20%20%20%20%3Clink%20rel%3D%22stylesheet%22%20href%3D%22https%3A//cdn.jsdelivr.net/gh/python-visualization/folium/folium/templates/leaflet.awesome.rotate.min.css%22/%3E%0A%20%20%20%20%0A%20%20%20%20%20%20%20%20%20%20%20%20%3Cmeta%20name%3D%22viewport%22%20content%3D%22width%3Ddevice-width%2C%0A%20%20%20%20%20%20%20%20%20%20%20%20%20%20%20%20initial-scale%3D1.0%2C%20maximum-scale%3D1.0%2C%20user-scalable%3Dno%22%20/%3E%0A%20%20%20%20%20%20%20%20%20%20%20%20%3Cstyle%3E%0A%20%20%20%20%20%20%20%20%20%20%20%20%20%20%20%20%23map_1a190f9f270a43c0990057107ee97024%20%7B%0A%20%20%20%20%20%20%20%20%20%20%20%20%20%20%20%20%20%20%20%20position%3A%20relative%3B%0A%20%20%20%20%20%20%20%20%20%20%20%20%20%20%20%20%20%20%20%20width%3A%20100.0%25%3B%0A%20%20%20%20%20%20%20%20%20%20%20%20%20%20%20%20%20%20%20%20height%3A%20100.0%25%3B%0A%20%20%20%20%20%20%20%20%20%20%20%20%20%20%20%20%20%20%20%20left%3A%200.0%25%3B%0A%20%20%20%20%20%20%20%20%20%20%20%20%20%20%20%20%20%20%20%20top%3A%200.0%25%3B%0A%20%20%20%20%20%20%20%20%20%20%20%20%20%20%20%20%7D%0A%20%20%20%20%20%20%20%20%20%20%20%20%3C/style%3E%0A%20%20%20%20%20%20%20%20%0A%3C/head%3E%0A%3Cbody%3E%20%20%20%20%0A%20%20%20%20%0A%20%20%20%20%20%20%20%20%20%20%20%20%3Cdiv%20class%3D%22folium-map%22%20id%3D%22map_1a190f9f270a43c0990057107ee97024%22%20%3E%3C/div%3E%0A%20%20%20%20%20%20%20%20%0A%3C/body%3E%0A%3Cscript%3E%20%20%20%20%0A%20%20%20%20%0A%20%20%20%20%20%20%20%20%20%20%20%20var%20map_1a190f9f270a43c0990057107ee97024%20%3D%20L.map%28%0A%20%20%20%20%20%20%20%20%20%20%20%20%20%20%20%20%22map_1a190f9f270a43c0990057107ee97024%22%2C%0A%20%20%20%20%20%20%20%20%20%20%20%20%20%20%20%20%7B%0A%20%20%20%20%20%20%20%20%20%20%20%20%20%20%20%20%20%20%20%20center%3A%20%5B48.83349%2C%202.31852%5D%2C%0A%20%20%20%20%20%20%20%20%20%20%20%20%20%20%20%20%20%20%20%20crs%3A%20L.CRS.EPSG3857%2C%0A%20%20%20%20%20%20%20%20%20%20%20%20%20%20%20%20%20%20%20%20zoom%3A%2013%2C%0A%20%20%20%20%20%20%20%20%20%20%20%20%20%20%20%20%20%20%20%20zoomControl%3A%20true%2C%0A%20%20%20%20%20%20%20%20%20%20%20%20%20%20%20%20%20%20%20%20preferCanvas%3A%20false%2C%0A%20%20%20%20%20%20%20%20%20%20%20%20%20%20%20%20%7D%0A%20%20%20%20%20%20%20%20%20%20%20%20%29%3B%0A%0A%20%20%20%20%20%20%20%20%20%20%20%20%0A%0A%20%20%20%20%20%20%20%20%0A%20%20%20%20%0A%20%20%20%20%20%20%20%20%20%20%20%20var%20tile_layer_26bf8ba566904ba89940177e40bc90b1%20%3D%20L.tileLayer%28%0A%20%20%20%20%20%20%20%20%20%20%20%20%20%20%20%20%22https%3A//%7Bs%7D.tile.openstreetmap.org/%7Bz%7D/%7Bx%7D/%7By%7D.png%22%2C%0A%20%20%20%20%20%20%20%20%20%20%20%20%20%20%20%20%7B%22attribution%22%3A%20%22Data%20by%20%5Cu0026copy%3B%20%5Cu003ca%20href%3D%5C%22http%3A//openstreetmap.org%5C%22%5Cu003eOpenStreetMap%5Cu003c/a%5Cu003e%2C%20under%20%5Cu003ca%20href%3D%5C%22http%3A//www.openstreetmap.org/copyright%5C%22%5Cu003eODbL%5Cu003c/a%5Cu003e.%22%2C%20%22detectRetina%22%3A%20false%2C%20%22maxNativeZoom%22%3A%2018%2C%20%22maxZoom%22%3A%2018%2C%20%22minZoom%22%3A%200%2C%20%22noWrap%22%3A%20false%2C%20%22opacity%22%3A%201%2C%20%22subdomains%22%3A%20%22abc%22%2C%20%22tms%22%3A%20false%7D%0A%20%20%20%20%20%20%20%20%20%20%20%20%29.addTo%28map_1a190f9f270a43c0990057107ee97024%29%3B%0A%20%20%20%20%20%20%20%20%0A%3C/script%3E onload=\"this.contentDocument.open();this.contentDocument.write(    decodeURIComponent(this.getAttribute('data-html')));this.contentDocument.close();\" allowfullscreen webkitallowfullscreen mozallowfullscreen></iframe></div></div>"
      ],
      "text/plain": [
       "<folium.folium.Map at 0x2c45b35a0a0>"
      ]
     },
     "execution_count": 41,
     "metadata": {},
     "output_type": "execute_result"
    }
   ],
   "source": [
    "m"
   ]
  },
  {
   "cell_type": "code",
   "execution_count": 42,
   "metadata": {},
   "outputs": [],
   "source": [
    "#m = folium.Map(location=[[48.83349 ,48.86409], [2.35651, 2.31852]], zoom_start=13)"
   ]
  },
  {
   "cell_type": "code",
   "execution_count": 43,
   "metadata": {
    "scrolled": true
   },
   "outputs": [
    {
     "data": {
      "text/html": [
       "<div style=\"width:100%;\"><div style=\"position:relative;width:100%;height:0;padding-bottom:60%;\"><span style=\"color:#565656\">Make this Notebook Trusted to load map: File -> Trust Notebook</span><iframe src=\"about:blank\" style=\"position:absolute;width:100%;height:100%;left:0;top:0;border:none !important;\" data-html=%3C%21DOCTYPE%20html%3E%0A%3Chead%3E%20%20%20%20%0A%20%20%20%20%3Cmeta%20http-equiv%3D%22content-type%22%20content%3D%22text/html%3B%20charset%3DUTF-8%22%20/%3E%0A%20%20%20%20%0A%20%20%20%20%20%20%20%20%3Cscript%3E%0A%20%20%20%20%20%20%20%20%20%20%20%20L_NO_TOUCH%20%3D%20false%3B%0A%20%20%20%20%20%20%20%20%20%20%20%20L_DISABLE_3D%20%3D%20false%3B%0A%20%20%20%20%20%20%20%20%3C/script%3E%0A%20%20%20%20%0A%20%20%20%20%3Cstyle%3Ehtml%2C%20body%20%7Bwidth%3A%20100%25%3Bheight%3A%20100%25%3Bmargin%3A%200%3Bpadding%3A%200%3B%7D%3C/style%3E%0A%20%20%20%20%3Cstyle%3E%23map%20%7Bposition%3Aabsolute%3Btop%3A0%3Bbottom%3A0%3Bright%3A0%3Bleft%3A0%3B%7D%3C/style%3E%0A%20%20%20%20%3Cscript%20src%3D%22https%3A//cdn.jsdelivr.net/npm/leaflet%401.6.0/dist/leaflet.js%22%3E%3C/script%3E%0A%20%20%20%20%3Cscript%20src%3D%22https%3A//code.jquery.com/jquery-1.12.4.min.js%22%3E%3C/script%3E%0A%20%20%20%20%3Cscript%20src%3D%22https%3A//maxcdn.bootstrapcdn.com/bootstrap/3.2.0/js/bootstrap.min.js%22%3E%3C/script%3E%0A%20%20%20%20%3Cscript%20src%3D%22https%3A//cdnjs.cloudflare.com/ajax/libs/Leaflet.awesome-markers/2.0.2/leaflet.awesome-markers.js%22%3E%3C/script%3E%0A%20%20%20%20%3Clink%20rel%3D%22stylesheet%22%20href%3D%22https%3A//cdn.jsdelivr.net/npm/leaflet%401.6.0/dist/leaflet.css%22/%3E%0A%20%20%20%20%3Clink%20rel%3D%22stylesheet%22%20href%3D%22https%3A//maxcdn.bootstrapcdn.com/bootstrap/3.2.0/css/bootstrap.min.css%22/%3E%0A%20%20%20%20%3Clink%20rel%3D%22stylesheet%22%20href%3D%22https%3A//maxcdn.bootstrapcdn.com/bootstrap/3.2.0/css/bootstrap-theme.min.css%22/%3E%0A%20%20%20%20%3Clink%20rel%3D%22stylesheet%22%20href%3D%22https%3A//maxcdn.bootstrapcdn.com/font-awesome/4.6.3/css/font-awesome.min.css%22/%3E%0A%20%20%20%20%3Clink%20rel%3D%22stylesheet%22%20href%3D%22https%3A//cdnjs.cloudflare.com/ajax/libs/Leaflet.awesome-markers/2.0.2/leaflet.awesome-markers.css%22/%3E%0A%20%20%20%20%3Clink%20rel%3D%22stylesheet%22%20href%3D%22https%3A//cdn.jsdelivr.net/gh/python-visualization/folium/folium/templates/leaflet.awesome.rotate.min.css%22/%3E%0A%20%20%20%20%0A%20%20%20%20%20%20%20%20%20%20%20%20%3Cmeta%20name%3D%22viewport%22%20content%3D%22width%3Ddevice-width%2C%0A%20%20%20%20%20%20%20%20%20%20%20%20%20%20%20%20initial-scale%3D1.0%2C%20maximum-scale%3D1.0%2C%20user-scalable%3Dno%22%20/%3E%0A%20%20%20%20%20%20%20%20%20%20%20%20%3Cstyle%3E%0A%20%20%20%20%20%20%20%20%20%20%20%20%20%20%20%20%23map_ebebc6e29a654b779c36c0b18e4bc8f3%20%7B%0A%20%20%20%20%20%20%20%20%20%20%20%20%20%20%20%20%20%20%20%20position%3A%20relative%3B%0A%20%20%20%20%20%20%20%20%20%20%20%20%20%20%20%20%20%20%20%20width%3A%20100.0%25%3B%0A%20%20%20%20%20%20%20%20%20%20%20%20%20%20%20%20%20%20%20%20height%3A%20100.0%25%3B%0A%20%20%20%20%20%20%20%20%20%20%20%20%20%20%20%20%20%20%20%20left%3A%200.0%25%3B%0A%20%20%20%20%20%20%20%20%20%20%20%20%20%20%20%20%20%20%20%20top%3A%200.0%25%3B%0A%20%20%20%20%20%20%20%20%20%20%20%20%20%20%20%20%7D%0A%20%20%20%20%20%20%20%20%20%20%20%20%3C/style%3E%0A%20%20%20%20%20%20%20%20%0A%3C/head%3E%0A%3Cbody%3E%20%20%20%20%0A%20%20%20%20%0A%20%20%20%20%20%20%20%20%20%20%20%20%3Cdiv%20class%3D%22folium-map%22%20id%3D%22map_ebebc6e29a654b779c36c0b18e4bc8f3%22%20%3E%3C/div%3E%0A%20%20%20%20%20%20%20%20%0A%3C/body%3E%0A%3Cscript%3E%20%20%20%20%0A%20%20%20%20%0A%20%20%20%20%20%20%20%20%20%20%20%20var%20map_ebebc6e29a654b779c36c0b18e4bc8f3%20%3D%20L.map%28%0A%20%20%20%20%20%20%20%20%20%20%20%20%20%20%20%20%22map_ebebc6e29a654b779c36c0b18e4bc8f3%22%2C%0A%20%20%20%20%20%20%20%20%20%20%20%20%20%20%20%20%7B%0A%20%20%20%20%20%20%20%20%20%20%20%20%20%20%20%20%20%20%20%20center%3A%20%5B48.83349%2C%202.31852%5D%2C%0A%20%20%20%20%20%20%20%20%20%20%20%20%20%20%20%20%20%20%20%20crs%3A%20L.CRS.EPSG3857%2C%0A%20%20%20%20%20%20%20%20%20%20%20%20%20%20%20%20%20%20%20%20zoom%3A%2011%2C%0A%20%20%20%20%20%20%20%20%20%20%20%20%20%20%20%20%20%20%20%20zoomControl%3A%20true%2C%0A%20%20%20%20%20%20%20%20%20%20%20%20%20%20%20%20%20%20%20%20preferCanvas%3A%20false%2C%0A%20%20%20%20%20%20%20%20%20%20%20%20%20%20%20%20%7D%0A%20%20%20%20%20%20%20%20%20%20%20%20%29%3B%0A%0A%20%20%20%20%20%20%20%20%20%20%20%20%0A%0A%20%20%20%20%20%20%20%20%0A%20%20%20%20%0A%20%20%20%20%20%20%20%20%20%20%20%20var%20tile_layer_e5914505e7cc472a9359e3f6343186fa%20%3D%20L.tileLayer%28%0A%20%20%20%20%20%20%20%20%20%20%20%20%20%20%20%20%22https%3A//%7Bs%7D.tile.openstreetmap.org/%7Bz%7D/%7Bx%7D/%7By%7D.png%22%2C%0A%20%20%20%20%20%20%20%20%20%20%20%20%20%20%20%20%7B%22attribution%22%3A%20%22Data%20by%20%5Cu0026copy%3B%20%5Cu003ca%20href%3D%5C%22http%3A//openstreetmap.org%5C%22%5Cu003eOpenStreetMap%5Cu003c/a%5Cu003e%2C%20under%20%5Cu003ca%20href%3D%5C%22http%3A//www.openstreetmap.org/copyright%5C%22%5Cu003eODbL%5Cu003c/a%5Cu003e.%22%2C%20%22detectRetina%22%3A%20false%2C%20%22maxNativeZoom%22%3A%2018%2C%20%22maxZoom%22%3A%2018%2C%20%22minZoom%22%3A%200%2C%20%22noWrap%22%3A%20false%2C%20%22opacity%22%3A%201%2C%20%22subdomains%22%3A%20%22abc%22%2C%20%22tms%22%3A%20false%7D%0A%20%20%20%20%20%20%20%20%20%20%20%20%29.addTo%28map_ebebc6e29a654b779c36c0b18e4bc8f3%29%3B%0A%20%20%20%20%20%20%20%20%0A%20%20%20%20%0A%20%20%20%20%20%20%20%20%20%20%20%20var%20marker_b54b5fd7c01a4826a724659d47eb3b97%20%3D%20L.marker%28%0A%20%20%20%20%20%20%20%20%20%20%20%20%20%20%20%20%5B48.83349%2C%202.31852%5D%2C%0A%20%20%20%20%20%20%20%20%20%20%20%20%20%20%20%20%7B%7D%0A%20%20%20%20%20%20%20%20%20%20%20%20%29.addTo%28map_ebebc6e29a654b779c36c0b18e4bc8f3%29%3B%0A%20%20%20%20%20%20%20%20%0A%20%20%20%20%0A%20%20%20%20%20%20%20%20%20%20%20%20var%20icon_467aabbd45b24574a11260b7d51ec85e%20%3D%20L.AwesomeMarkers.icon%28%0A%20%20%20%20%20%20%20%20%20%20%20%20%20%20%20%20%7B%22extraClasses%22%3A%20%22fa-rotate-0%22%2C%20%22icon%22%3A%20%22info-sign%22%2C%20%22iconColor%22%3A%20%22white%22%2C%20%22markerColor%22%3A%20%22green%22%2C%20%22prefix%22%3A%20%22glyphicon%22%7D%0A%20%20%20%20%20%20%20%20%20%20%20%20%29%3B%0A%20%20%20%20%20%20%20%20%20%20%20%20marker_b54b5fd7c01a4826a724659d47eb3b97.setIcon%28icon_467aabbd45b24574a11260b7d51ec85e%29%3B%0A%20%20%20%20%20%20%20%20%0A%20%20%20%20%0A%20%20%20%20%20%20%20%20var%20popup_fc79ed2557534a709a8923dd066e99e0%20%3D%20L.popup%28%7B%22maxWidth%22%3A%20%22100%25%22%7D%29%3B%0A%0A%20%20%20%20%20%20%20%20%0A%20%20%20%20%20%20%20%20%20%20%20%20var%20html_b6f21b6448e04a189fe906b6b6bef435%20%3D%20%24%28%60%3Cdiv%20id%3D%22html_b6f21b6448e04a189fe906b6b6bef435%22%20style%3D%22width%3A%20100.0%25%3B%20height%3A%20100.0%25%3B%22%3EVIA%20University%20College%3C/div%3E%60%29%5B0%5D%3B%0A%20%20%20%20%20%20%20%20%20%20%20%20popup_fc79ed2557534a709a8923dd066e99e0.setContent%28html_b6f21b6448e04a189fe906b6b6bef435%29%3B%0A%20%20%20%20%20%20%20%20%0A%0A%20%20%20%20%20%20%20%20marker_b54b5fd7c01a4826a724659d47eb3b97.bindPopup%28popup_fc79ed2557534a709a8923dd066e99e0%29%0A%20%20%20%20%20%20%20%20%3B%0A%0A%20%20%20%20%20%20%20%20%0A%20%20%20%20%0A%20%20%20%20%0A%20%20%20%20%20%20%20%20%20%20%20%20var%20poly_line_4cf416efdecd4479a1e9d29eb7f3cc8a%20%3D%20L.polyline%28%0A%20%20%20%20%20%20%20%20%20%20%20%20%20%20%20%20%5B%5B48.86409%2C%202.35651%5D%2C%20%5B48.85207%2C%202.35871%5D%2C%20%5B48.86227%2C%202.37134%5D%2C%20%5B48.88902%2C%202.34656%5D%2C%20%5B48.83349%2C%202.31852%5D%5D%2C%0A%20%20%20%20%20%20%20%20%20%20%20%20%20%20%20%20%7B%22bubblingMouseEvents%22%3A%20true%2C%20%22color%22%3A%20%22blue%22%2C%20%22dashArray%22%3A%20null%2C%20%22dashOffset%22%3A%20null%2C%20%22fill%22%3A%20false%2C%20%22fillColor%22%3A%20%22blue%22%2C%20%22fillOpacity%22%3A%200.2%2C%20%22fillRule%22%3A%20%22evenodd%22%2C%20%22lineCap%22%3A%20%22round%22%2C%20%22lineJoin%22%3A%20%22round%22%2C%20%22noClip%22%3A%20false%2C%20%22opacity%22%3A%200.8%2C%20%22smoothFactor%22%3A%201.0%2C%20%22stroke%22%3A%20true%2C%20%22weight%22%3A%202.5%7D%0A%20%20%20%20%20%20%20%20%20%20%20%20%29.addTo%28map_ebebc6e29a654b779c36c0b18e4bc8f3%29%3B%0A%20%20%20%20%20%20%20%20%0A%3C/script%3E onload=\"this.contentDocument.open();this.contentDocument.write(    decodeURIComponent(this.getAttribute('data-html')));this.contentDocument.close();\" allowfullscreen webkitallowfullscreen mozallowfullscreen></iframe></div></div>"
      ],
      "text/plain": [
       "<folium.folium.Map at 0x2c45c49b9a0>"
      ]
     },
     "execution_count": 43,
     "metadata": {},
     "output_type": "execute_result"
    }
   ],
   "source": [
    "import folium\n",
    "\n",
    "# Création d'une carte\n",
    "fmap = folium.Map(location=[48.83349, 2.31852], tiles='OpenStreetMap', zoom_start=11)\n",
    "\n",
    "# Ajout d'un marqueur\n",
    "folium.Marker([48.83349, 2.31852],\n",
    "              popup='VIA University College',\n",
    "              icon=folium.Icon(color='green')).add_to(fmap)\n",
    "\n",
    "\n",
    "# Ajout d'une ligne brisée définie à partir de 5 points\n",
    "points = [\n",
    "  (48.86409, 2.35651),\n",
    "  (48.85207, 2.35871),\n",
    "  (48.86227, 2.37134),\n",
    "  (48.88902, 2.34656),\n",
    "  (48.83349, 2.31852)\n",
    "]\n",
    "\n",
    "folium.PolyLine(points, color='blue', weight=2.5, opacity=0.8).add_to(fmap)\n",
    "\n",
    "# Génération du fichier HTML contenant la carte\n",
    "fmap.save('via.html')\n",
    "fmap"
   ]
  },
  {
   "cell_type": "code",
   "execution_count": 44,
   "metadata": {},
   "outputs": [
    {
     "data": {
      "text/html": [
       "<div>\n",
       "<style scoped>\n",
       "    .dataframe tbody tr th:only-of-type {\n",
       "        vertical-align: middle;\n",
       "    }\n",
       "\n",
       "    .dataframe tbody tr th {\n",
       "        vertical-align: top;\n",
       "    }\n",
       "\n",
       "    .dataframe thead th {\n",
       "        text-align: right;\n",
       "    }\n",
       "</style>\n",
       "<table border=\"1\" class=\"dataframe\">\n",
       "  <thead>\n",
       "    <tr style=\"text-align: right;\">\n",
       "      <th></th>\n",
       "      <th>id</th>\n",
       "      <th>last_scraped</th>\n",
       "      <th>name</th>\n",
       "      <th>neighborhood_overview</th>\n",
       "      <th>neighbourhood</th>\n",
       "      <th>neighbourhood_cleansed</th>\n",
       "      <th>latitude</th>\n",
       "      <th>longitude</th>\n",
       "      <th>property_type</th>\n",
       "      <th>room_type</th>\n",
       "      <th>accommodates</th>\n",
       "      <th>bedrooms</th>\n",
       "      <th>beds</th>\n",
       "      <th>price</th>\n",
       "      <th>minimum_nights</th>\n",
       "      <th>maximum_nights</th>\n",
       "    </tr>\n",
       "  </thead>\n",
       "  <tbody>\n",
       "    <tr>\n",
       "      <th>1</th>\n",
       "      <td>3109</td>\n",
       "      <td>2020-12-17</td>\n",
       "      <td>zen and calm</td>\n",
       "      <td>Good restaurants&lt;br /&gt;very close the Montparna...</td>\n",
       "      <td>Paris, Ile-de-France, France</td>\n",
       "      <td>Observatoire</td>\n",
       "      <td>48.83349</td>\n",
       "      <td>2.31852</td>\n",
       "      <td>Entire apartment</td>\n",
       "      <td>Entire home/apt</td>\n",
       "      <td>2</td>\n",
       "      <td>NaN</td>\n",
       "      <td>1.0</td>\n",
       "      <td>60.0</td>\n",
       "      <td>2</td>\n",
       "      <td>30</td>\n",
       "    </tr>\n",
       "    <tr>\n",
       "      <th>2</th>\n",
       "      <td>4890</td>\n",
       "      <td>2020-12-16</td>\n",
       "      <td>Quiet Historic &amp; Cute  +Free Cruise</td>\n",
       "      <td>Called \"Paris Next Great Neighborhood\" from Tr...</td>\n",
       "      <td>Paris, Ile-de-France, France</td>\n",
       "      <td>Temple</td>\n",
       "      <td>48.86409</td>\n",
       "      <td>2.35651</td>\n",
       "      <td>Entire apartment</td>\n",
       "      <td>Entire home/apt</td>\n",
       "      <td>4</td>\n",
       "      <td>1.0</td>\n",
       "      <td>2.0</td>\n",
       "      <td>69.0</td>\n",
       "      <td>5</td>\n",
       "      <td>120</td>\n",
       "    </tr>\n",
       "    <tr>\n",
       "      <th>3</th>\n",
       "      <td>5396</td>\n",
       "      <td>2020-12-16</td>\n",
       "      <td>Explore the heart of old Paris</td>\n",
       "      <td>You are within walking distance to the Louvre,...</td>\n",
       "      <td>Paris, Ile-de-France, France</td>\n",
       "      <td>Hôtel-de-Ville</td>\n",
       "      <td>48.85207</td>\n",
       "      <td>2.35871</td>\n",
       "      <td>Entire apartment</td>\n",
       "      <td>Entire home/apt</td>\n",
       "      <td>2</td>\n",
       "      <td>NaN</td>\n",
       "      <td>1.0</td>\n",
       "      <td>62.0</td>\n",
       "      <td>1</td>\n",
       "      <td>1125</td>\n",
       "    </tr>\n",
       "    <tr>\n",
       "      <th>7</th>\n",
       "      <td>9952</td>\n",
       "      <td>2020-12-16</td>\n",
       "      <td>Paris petit coin douillet</td>\n",
       "      <td>Vibrant neighborhood, full of bars, cafés, fre...</td>\n",
       "      <td>Paris, Ile-de-France, France</td>\n",
       "      <td>Popincourt</td>\n",
       "      <td>48.86227</td>\n",
       "      <td>2.37134</td>\n",
       "      <td>Entire apartment</td>\n",
       "      <td>Entire home/apt</td>\n",
       "      <td>2</td>\n",
       "      <td>1.0</td>\n",
       "      <td>1.0</td>\n",
       "      <td>75.0</td>\n",
       "      <td>5</td>\n",
       "      <td>120</td>\n",
       "    </tr>\n",
       "    <tr>\n",
       "      <th>8</th>\n",
       "      <td>10586</td>\n",
       "      <td>2020-12-16</td>\n",
       "      <td>Montmartre Studio 7</td>\n",
       "      <td>Montmartre, the neighborhood surrounding the s...</td>\n",
       "      <td>Paris, Ile-de-France, France</td>\n",
       "      <td>Buttes-Montmartre</td>\n",
       "      <td>48.88902</td>\n",
       "      <td>2.34656</td>\n",
       "      <td>Entire apartment</td>\n",
       "      <td>Entire home/apt</td>\n",
       "      <td>4</td>\n",
       "      <td>NaN</td>\n",
       "      <td>2.0</td>\n",
       "      <td>80.0</td>\n",
       "      <td>30</td>\n",
       "      <td>300</td>\n",
       "    </tr>\n",
       "  </tbody>\n",
       "</table>\n",
       "</div>"
      ],
      "text/plain": [
       "      id last_scraped                                 name  \\\n",
       "1   3109   2020-12-17                         zen and calm   \n",
       "2   4890   2020-12-16  Quiet Historic & Cute  +Free Cruise   \n",
       "3   5396   2020-12-16       Explore the heart of old Paris   \n",
       "7   9952   2020-12-16            Paris petit coin douillet   \n",
       "8  10586   2020-12-16                  Montmartre Studio 7   \n",
       "\n",
       "                               neighborhood_overview  \\\n",
       "1  Good restaurants<br />very close the Montparna...   \n",
       "2  Called \"Paris Next Great Neighborhood\" from Tr...   \n",
       "3  You are within walking distance to the Louvre,...   \n",
       "7  Vibrant neighborhood, full of bars, cafés, fre...   \n",
       "8  Montmartre, the neighborhood surrounding the s...   \n",
       "\n",
       "                  neighbourhood neighbourhood_cleansed  latitude  longitude  \\\n",
       "1  Paris, Ile-de-France, France           Observatoire  48.83349    2.31852   \n",
       "2  Paris, Ile-de-France, France                 Temple  48.86409    2.35651   \n",
       "3  Paris, Ile-de-France, France         Hôtel-de-Ville  48.85207    2.35871   \n",
       "7  Paris, Ile-de-France, France             Popincourt  48.86227    2.37134   \n",
       "8  Paris, Ile-de-France, France      Buttes-Montmartre  48.88902    2.34656   \n",
       "\n",
       "      property_type        room_type  accommodates  bedrooms  beds  price  \\\n",
       "1  Entire apartment  Entire home/apt             2       NaN   1.0   60.0   \n",
       "2  Entire apartment  Entire home/apt             4       1.0   2.0   69.0   \n",
       "3  Entire apartment  Entire home/apt             2       NaN   1.0   62.0   \n",
       "7  Entire apartment  Entire home/apt             2       1.0   1.0   75.0   \n",
       "8  Entire apartment  Entire home/apt             4       NaN   2.0   80.0   \n",
       "\n",
       "   minimum_nights  maximum_nights  \n",
       "1               2              30  \n",
       "2               5             120  \n",
       "3               1            1125  \n",
       "7               5             120  \n",
       "8              30             300  "
      ]
     },
     "execution_count": 44,
     "metadata": {},
     "output_type": "execute_result"
    }
   ],
   "source": [
    "df_paris = df_list[df_list.neighbourhood == \"Paris, Ile-de-France, France\"] #### biens vendus sur la ville de Paris métropolitaine\n",
    "df_paris.head()"
   ]
  },
  {
   "cell_type": "code",
   "execution_count": 45,
   "metadata": {
    "scrolled": true
   },
   "outputs": [],
   "source": [
    "#df_paris['latitude'].astype(int)"
   ]
  },
  {
   "cell_type": "code",
   "execution_count": 46,
   "metadata": {},
   "outputs": [],
   "source": [
    "#df_paris['longitude'].astype(int)"
   ]
  },
  {
   "cell_type": "code",
   "execution_count": 47,
   "metadata": {},
   "outputs": [],
   "source": [
    "#lat = df_paris['latitude']"
   ]
  },
  {
   "cell_type": "code",
   "execution_count": 48,
   "metadata": {},
   "outputs": [],
   "source": [
    "#df_list['latitude'].astype(str)"
   ]
  },
  {
   "cell_type": "code",
   "execution_count": 49,
   "metadata": {},
   "outputs": [],
   "source": [
    "#df_list['longitude'].astype(str)"
   ]
  },
  {
   "cell_type": "code",
   "execution_count": 50,
   "metadata": {},
   "outputs": [],
   "source": [
    "#df_list['position'] = df_list[['latitude', 'longitude']].apply(' '.join, axis=1)"
   ]
  },
  {
   "cell_type": "code",
   "execution_count": 51,
   "metadata": {},
   "outputs": [],
   "source": [
    "#df_list['longitude']"
   ]
  },
  {
   "cell_type": "code",
   "execution_count": 52,
   "metadata": {},
   "outputs": [],
   "source": [
    "#long = df_paris['longitude']"
   ]
  },
  {
   "cell_type": "code",
   "execution_count": 53,
   "metadata": {
    "scrolled": true
   },
   "outputs": [
    {
     "data": {
      "text/plain": [
       "83.54182489680643"
      ]
     },
     "execution_count": 53,
     "metadata": {},
     "output_type": "execute_result"
    }
   ],
   "source": [
    "df_list[df_list['accommodates']==2].price.mean()"
   ]
  },
  {
   "cell_type": "code",
   "execution_count": 54,
   "metadata": {},
   "outputs": [
    {
     "data": {
      "text/plain": [
       "0         125.0\n",
       "1          60.0\n",
       "2          69.0\n",
       "3          62.0\n",
       "4          53.0\n",
       "          ...  \n",
       "65912     176.0\n",
       "65913    1179.0\n",
       "65914    1179.0\n",
       "65915      24.0\n",
       "65916     110.0\n",
       "Name: price, Length: 65917, dtype: float64"
      ]
     },
     "execution_count": 54,
     "metadata": {},
     "output_type": "execute_result"
    }
   ],
   "source": [
    "df_list['price']"
   ]
  },
  {
   "cell_type": "code",
   "execution_count": 55,
   "metadata": {},
   "outputs": [
    {
     "data": {
      "text/plain": [
       "array(['Entrepôt', 'Observatoire', 'Temple', 'Hôtel-de-Ville', 'Opéra',\n",
       "       'Louvre', 'Popincourt', 'Buttes-Montmartre', 'Élysée', 'Panthéon',\n",
       "       'Gobelins', 'Luxembourg', 'Buttes-Chaumont', 'Palais-Bourbon',\n",
       "       'Reuilly', 'Bourse', 'Ménilmontant', 'Vaugirard',\n",
       "       'Batignolles-Monceau', 'Passy'], dtype=object)"
      ]
     },
     "execution_count": 55,
     "metadata": {},
     "output_type": "execute_result"
    }
   ],
   "source": [
    "df_list['neighbourhood_cleansed'].unique()"
   ]
  },
  {
   "cell_type": "code",
   "execution_count": 56,
   "metadata": {
    "scrolled": true
   },
   "outputs": [
    {
     "name": "stdout",
     "output_type": "stream",
     "text": [
      "100.58180484225971\n",
      "\n",
      "\n",
      "72.63331371394938\n",
      "\n",
      "\n",
      "74.73808519611978\n",
      "\n",
      "\n",
      "71.1424280350438\n",
      "\n",
      "\n",
      "66.27248201438849\n",
      "\n",
      "\n",
      "114.82799145299145\n"
     ]
    }
   ],
   "source": [
    "print(df_list[(df_list.accommodates == 2) & (df_list.neighbourhood_cleansed == 'Temple')].price.mean())\n",
    "print('\\n')\n",
    "print(df_list[(df_list.accommodates == 2) & (df_list.neighbourhood_cleansed == 'Popincourt')].price.mean())\n",
    "print('\\n')\n",
    "print(df_list[(df_list.accommodates == 2) & (df_list.neighbourhood_cleansed == 'Entrepôt')].price.mean())\n",
    "print('\\n')\n",
    "print(df_list[(df_list.accommodates == 2) & (df_list.neighbourhood_cleansed == 'Buttes-Montmartre')].price.mean())\n",
    "print('\\n')\n",
    "print(df_list[(df_list.accommodates == 2) & (df_list.neighbourhood_cleansed == 'Gobelins')].price.mean())\n",
    "print('\\n')\n",
    "print(df_list[(df_list.accommodates == 2) & (df_list.neighbourhood_cleansed == 'Luxembourg')].price.mean())\n"
   ]
  },
  {
   "cell_type": "code",
   "execution_count": 57,
   "metadata": {
    "scrolled": true
   },
   "outputs": [
    {
     "data": {
      "text/html": [
       "<div>\n",
       "<style scoped>\n",
       "    .dataframe tbody tr th:only-of-type {\n",
       "        vertical-align: middle;\n",
       "    }\n",
       "\n",
       "    .dataframe tbody tr th {\n",
       "        vertical-align: top;\n",
       "    }\n",
       "\n",
       "    .dataframe thead th {\n",
       "        text-align: right;\n",
       "    }\n",
       "</style>\n",
       "<table border=\"1\" class=\"dataframe\">\n",
       "  <thead>\n",
       "    <tr style=\"text-align: right;\">\n",
       "      <th></th>\n",
       "      <th>price</th>\n",
       "    </tr>\n",
       "    <tr>\n",
       "      <th>neighbourhood_cleansed</th>\n",
       "      <th></th>\n",
       "    </tr>\n",
       "  </thead>\n",
       "  <tbody>\n",
       "    <tr>\n",
       "      <th>Élysée</th>\n",
       "      <td>146.272109</td>\n",
       "    </tr>\n",
       "    <tr>\n",
       "      <th>Louvre</th>\n",
       "      <td>126.978788</td>\n",
       "    </tr>\n",
       "    <tr>\n",
       "      <th>Palais-Bourbon</th>\n",
       "      <td>125.525761</td>\n",
       "    </tr>\n",
       "    <tr>\n",
       "      <th>Luxembourg</th>\n",
       "      <td>114.827991</td>\n",
       "    </tr>\n",
       "    <tr>\n",
       "      <th>Passy</th>\n",
       "      <td>108.651654</td>\n",
       "    </tr>\n",
       "    <tr>\n",
       "      <th>Hôtel-de-Ville</th>\n",
       "      <td>103.149946</td>\n",
       "    </tr>\n",
       "    <tr>\n",
       "      <th>Temple</th>\n",
       "      <td>100.581805</td>\n",
       "    </tr>\n",
       "    <tr>\n",
       "      <th>Opéra</th>\n",
       "      <td>96.518957</td>\n",
       "    </tr>\n",
       "    <tr>\n",
       "      <th>Bourse</th>\n",
       "      <td>93.755996</td>\n",
       "    </tr>\n",
       "    <tr>\n",
       "      <th>Panthéon</th>\n",
       "      <td>88.526263</td>\n",
       "    </tr>\n",
       "    <tr>\n",
       "      <th>Vaugirard</th>\n",
       "      <td>83.983953</td>\n",
       "    </tr>\n",
       "    <tr>\n",
       "      <th>Batignolles-Monceau</th>\n",
       "      <td>81.086410</td>\n",
       "    </tr>\n",
       "    <tr>\n",
       "      <th>Entrepôt</th>\n",
       "      <td>74.738085</td>\n",
       "    </tr>\n",
       "    <tr>\n",
       "      <th>Popincourt</th>\n",
       "      <td>72.633314</td>\n",
       "    </tr>\n",
       "    <tr>\n",
       "      <th>Buttes-Montmartre</th>\n",
       "      <td>71.142428</td>\n",
       "    </tr>\n",
       "    <tr>\n",
       "      <th>Observatoire</th>\n",
       "      <td>70.475329</td>\n",
       "    </tr>\n",
       "    <tr>\n",
       "      <th>Reuilly</th>\n",
       "      <td>67.064263</td>\n",
       "    </tr>\n",
       "    <tr>\n",
       "      <th>Gobelins</th>\n",
       "      <td>66.272482</td>\n",
       "    </tr>\n",
       "    <tr>\n",
       "      <th>Ménilmontant</th>\n",
       "      <td>61.961012</td>\n",
       "    </tr>\n",
       "    <tr>\n",
       "      <th>Buttes-Chaumont</th>\n",
       "      <td>59.278502</td>\n",
       "    </tr>\n",
       "  </tbody>\n",
       "</table>\n",
       "</div>"
      ],
      "text/plain": [
       "                             price\n",
       "neighbourhood_cleansed            \n",
       "Élysée                  146.272109\n",
       "Louvre                  126.978788\n",
       "Palais-Bourbon          125.525761\n",
       "Luxembourg              114.827991\n",
       "Passy                   108.651654\n",
       "Hôtel-de-Ville          103.149946\n",
       "Temple                  100.581805\n",
       "Opéra                    96.518957\n",
       "Bourse                   93.755996\n",
       "Panthéon                 88.526263\n",
       "Vaugirard                83.983953\n",
       "Batignolles-Monceau      81.086410\n",
       "Entrepôt                 74.738085\n",
       "Popincourt               72.633314\n",
       "Buttes-Montmartre        71.142428\n",
       "Observatoire             70.475329\n",
       "Reuilly                  67.064263\n",
       "Gobelins                 66.272482\n",
       "Ménilmontant             61.961012\n",
       "Buttes-Chaumont          59.278502"
      ]
     },
     "execution_count": 57,
     "metadata": {},
     "output_type": "execute_result"
    }
   ],
   "source": [
    "#Le Prix moyen pour un listing de 2 personnes par quartier\n",
    "listing_d = df_list[df_list['accommodates']==2]\n",
    "listing_d[['neighbourhood_cleansed', 'price']].groupby(['neighbourhood_cleansed']).mean().sort_values(by='price', ascending=False)"
   ]
  },
  {
   "cell_type": "markdown",
   "metadata": {},
   "source": [
    "**Le Prix moyen pour un listing de 2 personnes par quartier**"
   ]
  },
  {
   "cell_type": "code",
   "execution_count": 58,
   "metadata": {},
   "outputs": [
    {
     "data": {
      "text/html": [
       "<div>\n",
       "<style scoped>\n",
       "    .dataframe tbody tr th:only-of-type {\n",
       "        vertical-align: middle;\n",
       "    }\n",
       "\n",
       "    .dataframe tbody tr th {\n",
       "        vertical-align: top;\n",
       "    }\n",
       "\n",
       "    .dataframe thead th {\n",
       "        text-align: right;\n",
       "    }\n",
       "</style>\n",
       "<table border=\"1\" class=\"dataframe\">\n",
       "  <thead>\n",
       "    <tr style=\"text-align: right;\">\n",
       "      <th></th>\n",
       "      <th>id</th>\n",
       "      <th>last_scraped</th>\n",
       "      <th>name</th>\n",
       "      <th>neighborhood_overview</th>\n",
       "      <th>neighbourhood</th>\n",
       "      <th>neighbourhood_cleansed</th>\n",
       "      <th>latitude</th>\n",
       "      <th>longitude</th>\n",
       "      <th>property_type</th>\n",
       "      <th>room_type</th>\n",
       "      <th>accommodates</th>\n",
       "      <th>bedrooms</th>\n",
       "      <th>beds</th>\n",
       "      <th>price</th>\n",
       "      <th>minimum_nights</th>\n",
       "      <th>maximum_nights</th>\n",
       "    </tr>\n",
       "  </thead>\n",
       "  <tbody>\n",
       "    <tr>\n",
       "      <th>2</th>\n",
       "      <td>4890</td>\n",
       "      <td>2020-12-16</td>\n",
       "      <td>Quiet Historic &amp; Cute  +Free Cruise</td>\n",
       "      <td>Called \"Paris Next Great Neighborhood\" from Tr...</td>\n",
       "      <td>Paris, Ile-de-France, France</td>\n",
       "      <td>Temple</td>\n",
       "      <td>48.86409</td>\n",
       "      <td>2.35651</td>\n",
       "      <td>Entire apartment</td>\n",
       "      <td>Entire home/apt</td>\n",
       "      <td>4</td>\n",
       "      <td>1.0</td>\n",
       "      <td>2.0</td>\n",
       "      <td>69.0</td>\n",
       "      <td>5</td>\n",
       "      <td>120</td>\n",
       "    </tr>\n",
       "    <tr>\n",
       "      <th>7</th>\n",
       "      <td>9952</td>\n",
       "      <td>2020-12-16</td>\n",
       "      <td>Paris petit coin douillet</td>\n",
       "      <td>Vibrant neighborhood, full of bars, cafés, fre...</td>\n",
       "      <td>Paris, Ile-de-France, France</td>\n",
       "      <td>Popincourt</td>\n",
       "      <td>48.86227</td>\n",
       "      <td>2.37134</td>\n",
       "      <td>Entire apartment</td>\n",
       "      <td>Entire home/apt</td>\n",
       "      <td>2</td>\n",
       "      <td>1.0</td>\n",
       "      <td>1.0</td>\n",
       "      <td>75.0</td>\n",
       "      <td>5</td>\n",
       "      <td>120</td>\n",
       "    </tr>\n",
       "    <tr>\n",
       "      <th>12</th>\n",
       "      <td>11213</td>\n",
       "      <td>2020-12-17</td>\n",
       "      <td>DOWNTOWN PARIS</td>\n",
       "      <td>Nous sommes dans le quartier de Belleville, en...</td>\n",
       "      <td>Paris, Ile-de-France, France</td>\n",
       "      <td>Entrepôt</td>\n",
       "      <td>48.87110</td>\n",
       "      <td>2.37424</td>\n",
       "      <td>Private room in apartment</td>\n",
       "      <td>Private room</td>\n",
       "      <td>6</td>\n",
       "      <td>1.0</td>\n",
       "      <td>3.0</td>\n",
       "      <td>157.0</td>\n",
       "      <td>1</td>\n",
       "      <td>730</td>\n",
       "    </tr>\n",
       "    <tr>\n",
       "      <th>13</th>\n",
       "      <td>11265</td>\n",
       "      <td>2020-12-26</td>\n",
       "      <td>Elegant appartment in Montmartre</td>\n",
       "      <td>The apartment is located at the foot of charmi...</td>\n",
       "      <td>Paris, Ile-de-France, France</td>\n",
       "      <td>Buttes-Montmartre</td>\n",
       "      <td>48.88434</td>\n",
       "      <td>2.34005</td>\n",
       "      <td>Entire apartment</td>\n",
       "      <td>Entire home/apt</td>\n",
       "      <td>2</td>\n",
       "      <td>1.0</td>\n",
       "      <td>1.0</td>\n",
       "      <td>100.0</td>\n",
       "      <td>7</td>\n",
       "      <td>90</td>\n",
       "    </tr>\n",
       "    <tr>\n",
       "      <th>14</th>\n",
       "      <td>11798</td>\n",
       "      <td>2020-12-31</td>\n",
       "      <td>Loft very charming in Paris</td>\n",
       "      <td>Je suis juste à côté du quartier chinois qui e...</td>\n",
       "      <td>Paris, Ile-de-France, France</td>\n",
       "      <td>Gobelins</td>\n",
       "      <td>48.82405</td>\n",
       "      <td>2.36828</td>\n",
       "      <td>Entire loft</td>\n",
       "      <td>Entire home/apt</td>\n",
       "      <td>3</td>\n",
       "      <td>1.0</td>\n",
       "      <td>1.0</td>\n",
       "      <td>110.0</td>\n",
       "      <td>2</td>\n",
       "      <td>20</td>\n",
       "    </tr>\n",
       "    <tr>\n",
       "      <th>...</th>\n",
       "      <td>...</td>\n",
       "      <td>...</td>\n",
       "      <td>...</td>\n",
       "      <td>...</td>\n",
       "      <td>...</td>\n",
       "      <td>...</td>\n",
       "      <td>...</td>\n",
       "      <td>...</td>\n",
       "      <td>...</td>\n",
       "      <td>...</td>\n",
       "      <td>...</td>\n",
       "      <td>...</td>\n",
       "      <td>...</td>\n",
       "      <td>...</td>\n",
       "      <td>...</td>\n",
       "      <td>...</td>\n",
       "    </tr>\n",
       "    <tr>\n",
       "      <th>65909</th>\n",
       "      <td>47018607</td>\n",
       "      <td>2020-12-16</td>\n",
       "      <td>2 PIECES, METRO VICTOR HUGO, CALME, REFAIT</td>\n",
       "      <td>A 2 pas du Métro Victor Hugo, des Champs Elysé...</td>\n",
       "      <td>Paris, Ile-de-France, France</td>\n",
       "      <td>Passy</td>\n",
       "      <td>48.86835</td>\n",
       "      <td>2.28864</td>\n",
       "      <td>Entire condominium</td>\n",
       "      <td>Entire home/apt</td>\n",
       "      <td>2</td>\n",
       "      <td>1.0</td>\n",
       "      <td>1.0</td>\n",
       "      <td>40.0</td>\n",
       "      <td>30</td>\n",
       "      <td>1125</td>\n",
       "    </tr>\n",
       "    <tr>\n",
       "      <th>65912</th>\n",
       "      <td>47021162</td>\n",
       "      <td>2020-12-16</td>\n",
       "      <td>JUNIOR SUITE 2 A 3 PERSONNES</td>\n",
       "      <td>L'hôtel Golden Tulip Washington Opera était au...</td>\n",
       "      <td>Paris, Ile-de-France, France</td>\n",
       "      <td>Louvre</td>\n",
       "      <td>48.86594</td>\n",
       "      <td>2.33800</td>\n",
       "      <td>Room in hotel</td>\n",
       "      <td>Private room</td>\n",
       "      <td>2</td>\n",
       "      <td>1.0</td>\n",
       "      <td>1.0</td>\n",
       "      <td>176.0</td>\n",
       "      <td>1</td>\n",
       "      <td>15</td>\n",
       "    </tr>\n",
       "    <tr>\n",
       "      <th>65913</th>\n",
       "      <td>47024721</td>\n",
       "      <td>2020-12-15</td>\n",
       "      <td>\"La Sorbonne\" Amazing Loft (841)</td>\n",
       "      <td>The Latin Quarter is surely one of the most po...</td>\n",
       "      <td>Paris, Ile-de-France, France</td>\n",
       "      <td>Panthéon</td>\n",
       "      <td>48.84766</td>\n",
       "      <td>2.34761</td>\n",
       "      <td>Entire apartment</td>\n",
       "      <td>Entire home/apt</td>\n",
       "      <td>4</td>\n",
       "      <td>1.0</td>\n",
       "      <td>2.0</td>\n",
       "      <td>1179.0</td>\n",
       "      <td>1</td>\n",
       "      <td>1125</td>\n",
       "    </tr>\n",
       "    <tr>\n",
       "      <th>65914</th>\n",
       "      <td>47024723</td>\n",
       "      <td>2020-12-15</td>\n",
       "      <td>\"La Sorbonne\" Amazing Loft (841)</td>\n",
       "      <td>The Latin Quarter is surely one of the most po...</td>\n",
       "      <td>Paris, Ile-de-France, France</td>\n",
       "      <td>Panthéon</td>\n",
       "      <td>48.84710</td>\n",
       "      <td>2.34751</td>\n",
       "      <td>Entire apartment</td>\n",
       "      <td>Entire home/apt</td>\n",
       "      <td>4</td>\n",
       "      <td>1.0</td>\n",
       "      <td>2.0</td>\n",
       "      <td>1179.0</td>\n",
       "      <td>1</td>\n",
       "      <td>1125</td>\n",
       "    </tr>\n",
       "    <tr>\n",
       "      <th>65916</th>\n",
       "      <td>47029229</td>\n",
       "      <td>2020-12-15</td>\n",
       "      <td>THE PARISIAN NEST - 3 room with balcony - 60m2</td>\n",
       "      <td>Down the street, there are many small boutique...</td>\n",
       "      <td>Paris, Ile-de-France, France</td>\n",
       "      <td>Buttes-Chaumont</td>\n",
       "      <td>48.88787</td>\n",
       "      <td>2.39222</td>\n",
       "      <td>Entire apartment</td>\n",
       "      <td>Entire home/apt</td>\n",
       "      <td>2</td>\n",
       "      <td>1.0</td>\n",
       "      <td>1.0</td>\n",
       "      <td>110.0</td>\n",
       "      <td>7</td>\n",
       "      <td>1125</td>\n",
       "    </tr>\n",
       "  </tbody>\n",
       "</table>\n",
       "<p>32116 rows × 16 columns</p>\n",
       "</div>"
      ],
      "text/plain": [
       "             id last_scraped                                            name  \\\n",
       "2          4890   2020-12-16             Quiet Historic & Cute  +Free Cruise   \n",
       "7          9952   2020-12-16                       Paris petit coin douillet   \n",
       "12        11213   2020-12-17                                  DOWNTOWN PARIS   \n",
       "13        11265   2020-12-26                Elegant appartment in Montmartre   \n",
       "14        11798   2020-12-31                     Loft very charming in Paris   \n",
       "...         ...          ...                                             ...   \n",
       "65909  47018607   2020-12-16      2 PIECES, METRO VICTOR HUGO, CALME, REFAIT   \n",
       "65912  47021162   2020-12-16                    JUNIOR SUITE 2 A 3 PERSONNES   \n",
       "65913  47024721   2020-12-15                \"La Sorbonne\" Amazing Loft (841)   \n",
       "65914  47024723   2020-12-15                \"La Sorbonne\" Amazing Loft (841)   \n",
       "65916  47029229   2020-12-15  THE PARISIAN NEST - 3 room with balcony - 60m2   \n",
       "\n",
       "                                   neighborhood_overview  \\\n",
       "2      Called \"Paris Next Great Neighborhood\" from Tr...   \n",
       "7      Vibrant neighborhood, full of bars, cafés, fre...   \n",
       "12     Nous sommes dans le quartier de Belleville, en...   \n",
       "13     The apartment is located at the foot of charmi...   \n",
       "14     Je suis juste à côté du quartier chinois qui e...   \n",
       "...                                                  ...   \n",
       "65909  A 2 pas du Métro Victor Hugo, des Champs Elysé...   \n",
       "65912  L'hôtel Golden Tulip Washington Opera était au...   \n",
       "65913  The Latin Quarter is surely one of the most po...   \n",
       "65914  The Latin Quarter is surely one of the most po...   \n",
       "65916  Down the street, there are many small boutique...   \n",
       "\n",
       "                      neighbourhood neighbourhood_cleansed  latitude  \\\n",
       "2      Paris, Ile-de-France, France                 Temple  48.86409   \n",
       "7      Paris, Ile-de-France, France             Popincourt  48.86227   \n",
       "12     Paris, Ile-de-France, France               Entrepôt  48.87110   \n",
       "13     Paris, Ile-de-France, France      Buttes-Montmartre  48.88434   \n",
       "14     Paris, Ile-de-France, France               Gobelins  48.82405   \n",
       "...                             ...                    ...       ...   \n",
       "65909  Paris, Ile-de-France, France                  Passy  48.86835   \n",
       "65912  Paris, Ile-de-France, France                 Louvre  48.86594   \n",
       "65913  Paris, Ile-de-France, France               Panthéon  48.84766   \n",
       "65914  Paris, Ile-de-France, France               Panthéon  48.84710   \n",
       "65916  Paris, Ile-de-France, France        Buttes-Chaumont  48.88787   \n",
       "\n",
       "       longitude              property_type        room_type  accommodates  \\\n",
       "2        2.35651           Entire apartment  Entire home/apt             4   \n",
       "7        2.37134           Entire apartment  Entire home/apt             2   \n",
       "12       2.37424  Private room in apartment     Private room             6   \n",
       "13       2.34005           Entire apartment  Entire home/apt             2   \n",
       "14       2.36828                Entire loft  Entire home/apt             3   \n",
       "...          ...                        ...              ...           ...   \n",
       "65909    2.28864         Entire condominium  Entire home/apt             2   \n",
       "65912    2.33800              Room in hotel     Private room             2   \n",
       "65913    2.34761           Entire apartment  Entire home/apt             4   \n",
       "65914    2.34751           Entire apartment  Entire home/apt             4   \n",
       "65916    2.39222           Entire apartment  Entire home/apt             2   \n",
       "\n",
       "       bedrooms  beds   price  minimum_nights  maximum_nights  \n",
       "2           1.0   2.0    69.0               5             120  \n",
       "7           1.0   1.0    75.0               5             120  \n",
       "12          1.0   3.0   157.0               1             730  \n",
       "13          1.0   1.0   100.0               7              90  \n",
       "14          1.0   1.0   110.0               2              20  \n",
       "...         ...   ...     ...             ...             ...  \n",
       "65909       1.0   1.0    40.0              30            1125  \n",
       "65912       1.0   1.0   176.0               1              15  \n",
       "65913       1.0   2.0  1179.0               1            1125  \n",
       "65914       1.0   2.0  1179.0               1            1125  \n",
       "65916       1.0   1.0   110.0               7            1125  \n",
       "\n",
       "[32116 rows x 16 columns]"
      ]
     },
     "execution_count": 58,
     "metadata": {},
     "output_type": "execute_result"
    }
   ],
   "source": [
    "df_list.dropna()"
   ]
  },
  {
   "cell_type": "code",
   "execution_count": 59,
   "metadata": {},
   "outputs": [],
   "source": [
    "#supprimer les données manquantes dans la base brutes\n",
    "df_list = df_list.dropna(subset=['neighborhood_overview'])"
   ]
  },
  {
   "cell_type": "code",
   "execution_count": 60,
   "metadata": {},
   "outputs": [],
   "source": [
    "df_list = df_list.dropna(subset=['bedrooms'])"
   ]
  },
  {
   "cell_type": "code",
   "execution_count": 61,
   "metadata": {},
   "outputs": [],
   "source": [
    "df_list = df_list.dropna(subset=['name'])"
   ]
  },
  {
   "cell_type": "code",
   "execution_count": 62,
   "metadata": {},
   "outputs": [],
   "source": [
    "df_list = df_list.dropna(subset=['beds'])"
   ]
  },
  {
   "cell_type": "code",
   "execution_count": 63,
   "metadata": {
    "scrolled": false
   },
   "outputs": [
    {
     "data": {
      "text/plain": [
       "id                        0.0\n",
       "last_scraped              0.0\n",
       "name                      0.0\n",
       "neighborhood_overview     0.0\n",
       "neighbourhood             0.0\n",
       "neighbourhood_cleansed    0.0\n",
       "latitude                  0.0\n",
       "longitude                 0.0\n",
       "property_type             0.0\n",
       "room_type                 0.0\n",
       "accommodates              0.0\n",
       "bedrooms                  0.0\n",
       "beds                      0.0\n",
       "price                     0.0\n",
       "minimum_nights            0.0\n",
       "maximum_nights            0.0\n",
       "dtype: float64"
      ]
     },
     "execution_count": 63,
     "metadata": {},
     "output_type": "execute_result"
    }
   ],
   "source": [
    "#Vérifier le taux des données manquantes dans la base brutes\n",
    "df_list.isnull().sum()/len(df_list)*100"
   ]
  },
  {
   "cell_type": "code",
   "execution_count": 65,
   "metadata": {},
   "outputs": [],
   "source": [
    "paris_listings = df_list[(df_list.accommodates ==2) & (df_list.neighbourhood == 'Paris, Ile-de-France, France')]"
   ]
  },
  {
   "cell_type": "code",
   "execution_count": 66,
   "metadata": {},
   "outputs": [
    {
     "data": {
      "text/html": [
       "<div>\n",
       "<style scoped>\n",
       "    .dataframe tbody tr th:only-of-type {\n",
       "        vertical-align: middle;\n",
       "    }\n",
       "\n",
       "    .dataframe tbody tr th {\n",
       "        vertical-align: top;\n",
       "    }\n",
       "\n",
       "    .dataframe thead th {\n",
       "        text-align: right;\n",
       "    }\n",
       "</style>\n",
       "<table border=\"1\" class=\"dataframe\">\n",
       "  <thead>\n",
       "    <tr style=\"text-align: right;\">\n",
       "      <th></th>\n",
       "      <th>id</th>\n",
       "      <th>last_scraped</th>\n",
       "      <th>name</th>\n",
       "      <th>description</th>\n",
       "      <th>neighborhood_overview</th>\n",
       "      <th>host_url</th>\n",
       "      <th>neighbourhood</th>\n",
       "      <th>neighbourhood_cleansed</th>\n",
       "      <th>latitude</th>\n",
       "      <th>longitude</th>\n",
       "      <th>...</th>\n",
       "      <th>accommodates</th>\n",
       "      <th>bathrooms_text</th>\n",
       "      <th>bedrooms</th>\n",
       "      <th>beds</th>\n",
       "      <th>amenities</th>\n",
       "      <th>price</th>\n",
       "      <th>minimum_nights</th>\n",
       "      <th>maximum_nights</th>\n",
       "      <th>has_availability</th>\n",
       "      <th>reviews_per_month</th>\n",
       "    </tr>\n",
       "  </thead>\n",
       "  <tbody>\n",
       "    <tr>\n",
       "      <th>0</th>\n",
       "      <td>2577</td>\n",
       "      <td>2020-12-16</td>\n",
       "      <td>Loft for 4 by Canal Saint Martin</td>\n",
       "      <td>100 m2 loft (1100 sq feet) with high ceiling, ...</td>\n",
       "      <td>NaN</td>\n",
       "      <td>https://www.airbnb.com/users/show/2827</td>\n",
       "      <td>NaN</td>\n",
       "      <td>Entrepôt</td>\n",
       "      <td>48.86993</td>\n",
       "      <td>2.36251</td>\n",
       "      <td>...</td>\n",
       "      <td>4</td>\n",
       "      <td>2 baths</td>\n",
       "      <td>2.0</td>\n",
       "      <td>2.0</td>\n",
       "      <td>[\"Dryer\", \"Host greets you\", \"Hot water\", \"Han...</td>\n",
       "      <td>$125.00</td>\n",
       "      <td>3</td>\n",
       "      <td>1125</td>\n",
       "      <td>t</td>\n",
       "      <td>0.04</td>\n",
       "    </tr>\n",
       "    <tr>\n",
       "      <th>1</th>\n",
       "      <td>3109</td>\n",
       "      <td>2020-12-17</td>\n",
       "      <td>zen and calm</td>\n",
       "      <td>&lt;b&gt;The space&lt;/b&gt;&lt;br /&gt;I bedroom appartment in ...</td>\n",
       "      <td>Good restaurants&lt;br /&gt;very close the Montparna...</td>\n",
       "      <td>https://www.airbnb.com/users/show/3631</td>\n",
       "      <td>Paris, Ile-de-France, France</td>\n",
       "      <td>Observatoire</td>\n",
       "      <td>48.83349</td>\n",
       "      <td>2.31852</td>\n",
       "      <td>...</td>\n",
       "      <td>2</td>\n",
       "      <td>1 bath</td>\n",
       "      <td>NaN</td>\n",
       "      <td>1.0</td>\n",
       "      <td>[\"Children\\u2019s books and toys\", \"Paid parki...</td>\n",
       "      <td>$60.00</td>\n",
       "      <td>2</td>\n",
       "      <td>30</td>\n",
       "      <td>t</td>\n",
       "      <td>0.19</td>\n",
       "    </tr>\n",
       "    <tr>\n",
       "      <th>2</th>\n",
       "      <td>4890</td>\n",
       "      <td>2020-12-16</td>\n",
       "      <td>Quiet Historic &amp; Cute  +Free Cruise</td>\n",
       "      <td>Stylish &amp; Classic One bedroom apartment for up...</td>\n",
       "      <td>Called \"Paris Next Great Neighborhood\" from Tr...</td>\n",
       "      <td>https://www.airbnb.com/users/show/6792</td>\n",
       "      <td>Paris, Ile-de-France, France</td>\n",
       "      <td>Temple</td>\n",
       "      <td>48.86409</td>\n",
       "      <td>2.35651</td>\n",
       "      <td>...</td>\n",
       "      <td>4</td>\n",
       "      <td>1 bath</td>\n",
       "      <td>1.0</td>\n",
       "      <td>2.0</td>\n",
       "      <td>[\"Dryer\", \"Host greets you\", \"Hangers\", \"Iron\"...</td>\n",
       "      <td>$69.00</td>\n",
       "      <td>5</td>\n",
       "      <td>120</td>\n",
       "      <td>t</td>\n",
       "      <td>0.21</td>\n",
       "    </tr>\n",
       "    <tr>\n",
       "      <th>3</th>\n",
       "      <td>5396</td>\n",
       "      <td>2020-12-16</td>\n",
       "      <td>Explore the heart of old Paris</td>\n",
       "      <td>Cozy, well-appointed and graciously designed s...</td>\n",
       "      <td>You are within walking distance to the Louvre,...</td>\n",
       "      <td>https://www.airbnb.com/users/show/7903</td>\n",
       "      <td>Paris, Ile-de-France, France</td>\n",
       "      <td>Hôtel-de-Ville</td>\n",
       "      <td>48.85207</td>\n",
       "      <td>2.35871</td>\n",
       "      <td>...</td>\n",
       "      <td>2</td>\n",
       "      <td>1 bath</td>\n",
       "      <td>NaN</td>\n",
       "      <td>1.0</td>\n",
       "      <td>[\"Oven\", \"Fire extinguisher\", \"Host greets you...</td>\n",
       "      <td>$62.00</td>\n",
       "      <td>1</td>\n",
       "      <td>1125</td>\n",
       "      <td>t</td>\n",
       "      <td>1.65</td>\n",
       "    </tr>\n",
       "    <tr>\n",
       "      <th>4</th>\n",
       "      <td>7397</td>\n",
       "      <td>2020-12-16</td>\n",
       "      <td>MARAIS - 2ROOMS APT - 2/4 PEOPLE</td>\n",
       "      <td>VERY CONVENIENT, WITH THE BEST LOCATION !&lt;br /...</td>\n",
       "      <td>NaN</td>\n",
       "      <td>https://www.airbnb.com/users/show/2626</td>\n",
       "      <td>NaN</td>\n",
       "      <td>Hôtel-de-Ville</td>\n",
       "      <td>48.85758</td>\n",
       "      <td>2.35275</td>\n",
       "      <td>...</td>\n",
       "      <td>4</td>\n",
       "      <td>1 bath</td>\n",
       "      <td>2.0</td>\n",
       "      <td>2.0</td>\n",
       "      <td>[\"Oven\", \"Paid parking off premises\", \"Hangers...</td>\n",
       "      <td>$53.00</td>\n",
       "      <td>15</td>\n",
       "      <td>130</td>\n",
       "      <td>t</td>\n",
       "      <td>2.28</td>\n",
       "    </tr>\n",
       "  </tbody>\n",
       "</table>\n",
       "<p>5 rows × 22 columns</p>\n",
       "</div>"
      ],
      "text/plain": [
       "     id last_scraped                                 name  \\\n",
       "0  2577   2020-12-16     Loft for 4 by Canal Saint Martin   \n",
       "1  3109   2020-12-17                         zen and calm   \n",
       "2  4890   2020-12-16  Quiet Historic & Cute  +Free Cruise   \n",
       "3  5396   2020-12-16       Explore the heart of old Paris   \n",
       "4  7397   2020-12-16     MARAIS - 2ROOMS APT - 2/4 PEOPLE   \n",
       "\n",
       "                                         description  \\\n",
       "0  100 m2 loft (1100 sq feet) with high ceiling, ...   \n",
       "1  <b>The space</b><br />I bedroom appartment in ...   \n",
       "2  Stylish & Classic One bedroom apartment for up...   \n",
       "3  Cozy, well-appointed and graciously designed s...   \n",
       "4  VERY CONVENIENT, WITH THE BEST LOCATION !<br /...   \n",
       "\n",
       "                               neighborhood_overview  \\\n",
       "0                                                NaN   \n",
       "1  Good restaurants<br />very close the Montparna...   \n",
       "2  Called \"Paris Next Great Neighborhood\" from Tr...   \n",
       "3  You are within walking distance to the Louvre,...   \n",
       "4                                                NaN   \n",
       "\n",
       "                                 host_url                 neighbourhood  \\\n",
       "0  https://www.airbnb.com/users/show/2827                           NaN   \n",
       "1  https://www.airbnb.com/users/show/3631  Paris, Ile-de-France, France   \n",
       "2  https://www.airbnb.com/users/show/6792  Paris, Ile-de-France, France   \n",
       "3  https://www.airbnb.com/users/show/7903  Paris, Ile-de-France, France   \n",
       "4  https://www.airbnb.com/users/show/2626                           NaN   \n",
       "\n",
       "  neighbourhood_cleansed  latitude  longitude  ... accommodates  \\\n",
       "0               Entrepôt  48.86993    2.36251  ...            4   \n",
       "1           Observatoire  48.83349    2.31852  ...            2   \n",
       "2                 Temple  48.86409    2.35651  ...            4   \n",
       "3         Hôtel-de-Ville  48.85207    2.35871  ...            2   \n",
       "4         Hôtel-de-Ville  48.85758    2.35275  ...            4   \n",
       "\n",
       "  bathrooms_text  bedrooms beds  \\\n",
       "0        2 baths       2.0  2.0   \n",
       "1         1 bath       NaN  1.0   \n",
       "2         1 bath       1.0  2.0   \n",
       "3         1 bath       NaN  1.0   \n",
       "4         1 bath       2.0  2.0   \n",
       "\n",
       "                                           amenities    price minimum_nights  \\\n",
       "0  [\"Dryer\", \"Host greets you\", \"Hot water\", \"Han...  $125.00              3   \n",
       "1  [\"Children\\u2019s books and toys\", \"Paid parki...   $60.00              2   \n",
       "2  [\"Dryer\", \"Host greets you\", \"Hangers\", \"Iron\"...   $69.00              5   \n",
       "3  [\"Oven\", \"Fire extinguisher\", \"Host greets you...   $62.00              1   \n",
       "4  [\"Oven\", \"Paid parking off premises\", \"Hangers...   $53.00             15   \n",
       "\n",
       "  maximum_nights  has_availability  reviews_per_month  \n",
       "0           1125                 t               0.04  \n",
       "1             30                 t               0.19  \n",
       "2            120                 t               0.21  \n",
       "3           1125                 t               1.65  \n",
       "4            130                 t               2.28  \n",
       "\n",
       "[5 rows x 22 columns]"
      ]
     },
     "execution_count": 66,
     "metadata": {},
     "output_type": "execute_result"
    }
   ],
   "source": [
    "paris_listings.to_csv('airbnb_paris' ,index=False)\n",
    "paris_listings = pd.read_csv('airbnb_list')\n",
    "paris_listings.head()"
   ]
  },
  {
   "cell_type": "code",
   "execution_count": null,
   "metadata": {},
   "outputs": [],
   "source": [
    "df_cal = pd.read_csv('calendar.csv')\n",
    "df_cal.head()"
   ]
  },
  {
   "cell_type": "code",
   "execution_count": null,
   "metadata": {},
   "outputs": [],
   "source": [
    "df_cal.rename(columns={'listing_id': 'id'}, inplace=True)\n",
    "df_cal.head()"
   ]
  },
  {
   "cell_type": "code",
   "execution_count": null,
   "metadata": {},
   "outputs": [],
   "source": [
    "pd.merge(df_list,df_cal,how='inner',on='id')"
   ]
  },
  {
   "cell_type": "code",
   "execution_count": null,
   "metadata": {},
   "outputs": [],
   "source": [
    "#df_cal = df_cal.drop(['available', 'adjusted_price'], axis= 1)"
   ]
  },
  {
   "cell_type": "code",
   "execution_count": null,
   "metadata": {},
   "outputs": [],
   "source": [
    "#df_ida = df_list[df_list.id == 4890] #### biens vendus sur la ville de Paris métro\n",
    "#df_ida"
   ]
  },
  {
   "cell_type": "code",
   "execution_count": null,
   "metadata": {
    "scrolled": true
   },
   "outputs": [],
   "source": [
    "#df_idb = df_cal[df_cal.id == 4890] #### biens vendus sur la ville de Paris métro\n",
    "#df_idb"
   ]
  },
  {
   "cell_type": "code",
   "execution_count": null,
   "metadata": {},
   "outputs": [],
   "source": [
    "#df_cal['price'] = df_cal['price'].str.replace('$','')"
   ]
  },
  {
   "cell_type": "code",
   "execution_count": null,
   "metadata": {},
   "outputs": [],
   "source": [
    "#df_cal['price'] = df_cal['price'].transform(lambda x: x.fillna(x.mean()))"
   ]
  },
  {
   "cell_type": "code",
   "execution_count": null,
   "metadata": {},
   "outputs": [],
   "source": [
    "#df_cal.to_csv('airbnb_list' ,index=False)"
   ]
  },
  {
   "cell_type": "code",
   "execution_count": null,
   "metadata": {},
   "outputs": [],
   "source": [
    "#df_cal = pd.read_csv('airbnb_list')\n",
    "#df_cal"
   ]
  },
  {
   "cell_type": "code",
   "execution_count": null,
   "metadata": {},
   "outputs": [],
   "source": [
    "# Répartition de la nature de mutation du bien!\n",
    "#df_final['Nature mutation'].value_counts(dropna = False, normalize = True).head()"
   ]
  },
  {
   "cell_type": "code",
   "execution_count": null,
   "metadata": {},
   "outputs": [],
   "source": []
  }
 ],
 "metadata": {
  "kernelspec": {
   "display_name": "Python 3",
   "language": "python",
   "name": "python3"
  },
  "language_info": {
   "codemirror_mode": {
    "name": "ipython",
    "version": 3
   },
   "file_extension": ".py",
   "mimetype": "text/x-python",
   "name": "python",
   "nbconvert_exporter": "python",
   "pygments_lexer": "ipython3",
   "version": "3.8.5"
  }
 },
 "nbformat": 4,
 "nbformat_minor": 4
}
